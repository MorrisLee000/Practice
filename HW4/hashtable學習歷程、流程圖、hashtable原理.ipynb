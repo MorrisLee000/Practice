{
 "cells": [
  {
   "cell_type": "code",
   "execution_count": 36,
   "metadata": {},
   "outputs": [],
   "source": [
    "from Crypto.Hash import MD5"
   ]
  },
  {
   "cell_type": "code",
   "execution_count": 37,
   "metadata": {},
   "outputs": [],
   "source": [
    "h = MD5.new()"
   ]
  },
  {
   "cell_type": "code",
   "execution_count": 38,
   "metadata": {},
   "outputs": [],
   "source": [
    "a = \"I am a student.\""
   ]
  },
  {
   "cell_type": "code",
   "execution_count": 39,
   "metadata": {},
   "outputs": [],
   "source": [
    "h.update(a.encode(\"UTF-8\"))"
   ]
  },
  {
   "cell_type": "code",
   "execution_count": 40,
   "metadata": {},
   "outputs": [
    {
     "name": "stdout",
     "output_type": "stream",
     "text": [
      "2f1f75e8bb00643cb05aed57f7bdb4a8\n"
     ]
    }
   ],
   "source": [
    "print (h.hexdigest())"
   ]
  },
  {
   "cell_type": "code",
   "execution_count": 41,
   "metadata": {},
   "outputs": [],
   "source": [
    "x = int(h.hexdigest(),16)"
   ]
  },
  {
   "cell_type": "code",
   "execution_count": 42,
   "metadata": {},
   "outputs": [
    {
     "name": "stdout",
     "output_type": "stream",
     "text": [
      "62637068485237126430481490249261102248\n"
     ]
    }
   ],
   "source": [
    "print(x)"
   ]
  },
  {
   "cell_type": "code",
   "execution_count": 43,
   "metadata": {},
   "outputs": [
    {
     "name": "stdout",
     "output_type": "stream",
     "text": [
      "3\n"
     ]
    }
   ],
   "source": [
    "k = x % 5\n",
    "print(k)"
   ]
  },
  {
   "cell_type": "code",
   "execution_count": 44,
   "metadata": {},
   "outputs": [],
   "source": [
    "def trans(key, capacity = 5):\n",
    "    h = MD5.new()\n",
    "    h.update(key.encode(\"UTF-8\"))\n",
    "    x = int(h.hexdigest(),16)\n",
    "    k = x % capacity\n",
    "    return k"
   ]
  },
  {
   "cell_type": "code",
   "execution_count": 45,
   "metadata": {},
   "outputs": [
    {
     "data": {
      "text/plain": [
       "2"
      ]
     },
     "execution_count": 45,
     "metadata": {},
     "output_type": "execute_result"
    }
   ],
   "source": [
    "a = \"bottle\"\n",
    "trans(a)"
   ]
  },
  {
   "cell_type": "code",
   "execution_count": 46,
   "metadata": {},
   "outputs": [
    {
     "name": "stdout",
     "output_type": "stream",
     "text": [
      "\n",
      "\n",
      "True\n",
      "\n",
      "\n"
     ]
    }
   ],
   "source": [
    "capacity = 5\n",
    "data = [None] * capacity\n",
    "k = 2\n",
    "i = 0\n",
    "while i < capacity:\n",
    "    if i == k:\n",
    "        print(\"True\")\n",
    "    else:\n",
    "        print()\n",
    "    i += 1"
   ]
  },
  {
   "cell_type": "code",
   "execution_count": 47,
   "metadata": {},
   "outputs": [],
   "source": [
    "def contain(key, value):\n",
    "    h = MD5.new()\n",
    "    h.update(key.encode(\"UTF-8\"))\n",
    "    x = int(h.hexdigest(),16)\n",
    "    k = x % 5\n",
    "    if k == value:\n",
    "        return True\n",
    "    return False"
   ]
  },
  {
   "cell_type": "code",
   "execution_count": 48,
   "metadata": {},
   "outputs": [
    {
     "data": {
      "text/plain": [
       "False"
      ]
     },
     "execution_count": 48,
     "metadata": {},
     "output_type": "execute_result"
    }
   ],
   "source": [
    "a = \"pig\"\n",
    "contain(a,1)"
   ]
  },
  {
   "cell_type": "code",
   "execution_count": 49,
   "metadata": {},
   "outputs": [
    {
     "data": {
      "text/plain": [
       "True"
      ]
     },
     "execution_count": 49,
     "metadata": {},
     "output_type": "execute_result"
    }
   ],
   "source": [
    "a = \"bottle\"\n",
    "contain(a,2)"
   ]
  },
  {
   "cell_type": "markdown",
   "metadata": {},
   "source": [
    "上面都是進行MD5和測試的地方"
   ]
  },
  {
   "cell_type": "code",
   "execution_count": 50,
   "metadata": {},
   "outputs": [],
   "source": [
    "class ListNode:\n",
    "    def __init__(self, val):\n",
    "        self.val = val\n",
    "        self.next = None\n",
    "    \n",
    "class MyHashSet:\n",
    "    def __init__(self, capacity):\n",
    "        self.capacity = capacity\n",
    "        self.data = [None] * self.capacity\n",
    "        \n",
    "    def contains(self, key):\n",
    "        h = MD5.new()\n",
    "        h.update(key.encode(\"UTF-8\"))\n",
    "        x = int(h.hexdigest(), 16)\n",
    "        k = x % self.capacity\n",
    "        target = self.data[k]                   ## 用一個新的變數來當成self.data[k]，如果不這麼做會有問題。\n",
    "        while target:\n",
    "            if target.val == x:                 ##假如target.val == x，會回傳True，回傳的內容是根據助教給的測值中\n",
    "                return True                     ##顯示的結果來給的\n",
    "            else:                               ##假如target.val != x，就會往target.next繼續尋找\n",
    "                target = target.next\n",
    "            return False                        ##如果target == None或者target裡面並沒有x的話，會回傳False"
   ]
  },
  {
   "cell_type": "code",
   "execution_count": 51,
   "metadata": {},
   "outputs": [],
   "source": [
    "class ListNode:\n",
    "    def __init__(self, val):\n",
    "        self.val = val\n",
    "        self.next = None\n",
    "\n",
    "class MyHashSet:\n",
    "    def __init__(self, capacity=5):\n",
    "        self.capacity = capacity\n",
    "        self.data = [None] * self.capacity      ##這表示array的大小，capacity助教已經給出5\n",
    "\n",
    "    def add(self, key):\n",
    "        h = MD5.new()                           ##在每一個def裡面先進行轉換，因為key可能會是任何數值或字串\n",
    "        h.update(key.encode(\"UTF-8\"))           \n",
    "        x = int(h.hexdigest(), 16)              ##先轉換成16進位再轉成10進位\n",
    "        k = x % self.capacity                   ##進行取餘數\n",
    "        target = self.data[k]\n",
    "        while target:                           ## k = 目標在array的位置\n",
    "            if target.val == x:                 ## 假設target.val == x，代表假如x已經存在的話，就不會有動作\n",
    "                return                          ## 在作業QA裡面的Q7有說相同的key可以重複塞入，也可以只塞一個\n",
    "            else:\n",
    "                target = target.next            ##如果不同的話，就往下一個node去找\n",
    "        new_listnode = ListNode(x)              \n",
    "        new_listnode.next = self.data[k]\n",
    "        self.data[k] = new_listnode             ##遮邊是插入新的node進去\n",
    "        \n",
    "    def contains(self, key):\n",
    "        h = MD5.new()\n",
    "        h.update(key.encode(\"UTF-8\"))\n",
    "        x = int(h.hexdigest(), 16)\n",
    "        k = x % self.capacity\n",
    "        target = self.data[k]\n",
    "        while target:\n",
    "            if target.val == x:\n",
    "                return True\n",
    "            else:\n",
    "                target = target.next  \n",
    "        return False"
   ]
  },
  {
   "cell_type": "markdown",
   "metadata": {},
   "source": [
    "使用助教給的測值來執行看看"
   ]
  },
  {
   "cell_type": "code",
   "execution_count": 52,
   "metadata": {},
   "outputs": [
    {
     "name": "stdout",
     "output_type": "stream",
     "text": [
      "True\n",
      "True\n",
      "False\n",
      "True\n"
     ]
    }
   ],
   "source": [
    "hashset = MyHashSet()\n",
    "hashset.add(\"dog\")\n",
    "hashset.add(\"pig\")\n",
    "rel = hashset.contains(\"pig\")\n",
    "print(rel)\n",
    "rel = hashset.contains(\"dog\")\n",
    "print(rel)\n",
    "rel = hashset.contains(\"cat\")\n",
    "print(rel)\n",
    "hashset.add(\"bird\")\n",
    "rel = hashset.contains(\"bird\")\n",
    "print(rel)"
   ]
  },
  {
   "cell_type": "markdown",
   "metadata": {},
   "source": [
    "下面這一個是上面說會產生問題的地方，pig和bottle的餘數都是2"
   ]
  },
  {
   "cell_type": "markdown",
   "metadata": {},
   "source": [
    "先使用沒問題的版本進行測試"
   ]
  },
  {
   "cell_type": "code",
   "execution_count": 53,
   "metadata": {},
   "outputs": [
    {
     "name": "stdout",
     "output_type": "stream",
     "text": [
      "True\n",
      "True\n",
      "False\n",
      "True\n",
      "True\n"
     ]
    }
   ],
   "source": [
    "hashset = MyHashSet()\n",
    "hashset.add(\"dog\")\n",
    "hashset.add(\"pig\")\n",
    "rel = hashset.contains(\"pig\")\n",
    "print(rel)\n",
    "rel = hashset.contains(\"dog\")\n",
    "print(rel)\n",
    "rel = hashset.contains(\"cat\")\n",
    "print(rel)\n",
    "hashset.add(\"bottle\")\n",
    "rel = hashset.contains(\"bottle\")\n",
    "print(rel)\n",
    "rel = hashset.contains(\"pig\")\n",
    "print(rel)"
   ]
  },
  {
   "cell_type": "markdown",
   "metadata": {},
   "source": [
    "接下來是有問題的"
   ]
  },
  {
   "cell_type": "code",
   "execution_count": 54,
   "metadata": {},
   "outputs": [],
   "source": [
    "class ListNode:\n",
    "    def __init__(self, val):\n",
    "        self.val = val\n",
    "        self.next = None\n",
    "class MyHashSet:\n",
    "    def __init__(self, capacity=5):\n",
    "        self.capacity = capacity\n",
    "        self.data = [None] * self.capacity   \n",
    "    def add(self, key):\n",
    "        h = MD5.new()                        \n",
    "        h.update(key.encode(\"UTF-8\"))        \n",
    "        x = int(h.hexdigest(), 16)           \n",
    "        k = x % self.capacity                \n",
    "        while self.data[k]:\n",
    "            if self.data[k].val == x:             \n",
    "                return               \n",
    "            else:                            \n",
    "                self.data[k] = self.data[k].next       \n",
    "        new_listnode = ListNode(x)           \n",
    "        new_listnode.next = self.data[k]\n",
    "        self.data[k] = new_listnode          \n",
    "        \n",
    "    def contains(self, key):\n",
    "        h = MD5.new()\n",
    "        h.update(key.encode(\"UTF-8\"))\n",
    "        x = int(h.hexdigest(), 16)\n",
    "        k = x % self.capacity\n",
    "        target = self.data[k]\n",
    "        while target:\n",
    "            if target.val == x:      \n",
    "                return True          \n",
    "            else:                    \n",
    "                target = target.next \n",
    "        return False                 "
   ]
  },
  {
   "cell_type": "code",
   "execution_count": 55,
   "metadata": {},
   "outputs": [
    {
     "name": "stdout",
     "output_type": "stream",
     "text": [
      "True\n",
      "True\n",
      "False\n",
      "True\n",
      "False\n"
     ]
    }
   ],
   "source": [
    "hashset = MyHashSet()\n",
    "hashset.add(\"dog\")\n",
    "hashset.add(\"pig\")\n",
    "rel = hashset.contains(\"pig\")\n",
    "print(rel)\n",
    "rel = hashset.contains(\"dog\")\n",
    "print(rel)\n",
    "rel = hashset.contains(\"cat\")\n",
    "print(rel)\n",
    "hashset.add(\"bottle\")\n",
    "rel = hashset.contains(\"bottle\")\n",
    "print(rel)\n",
    "rel = hashset.contains(\"pig\")\n",
    "print(rel)"
   ]
  },
  {
   "cell_type": "markdown",
   "metadata": {},
   "source": [
    "如果不使用一個變數表示self.data[k]，很可能在改變時造成原來的self.data也一起改變。"
   ]
  },
  {
   "cell_type": "markdown",
   "metadata": {},
   "source": [
    "先做add和contain的原因很簡單，因為如果沒有add就等於這是一個完全空白的array，contain是用來測試我們是否有成功把listnode加到array裡面。"
   ]
  },
  {
   "cell_type": "markdown",
   "metadata": {},
   "source": [
    "在每一個def裡面都有放轉換的過程，因為擔心如果額外寫一個def，如果再進行使用時出現問題，可能自己解決不了，所以就決定每一個def都寫一次。"
   ]
  },
  {
   "cell_type": "markdown",
   "metadata": {},
   "source": [
    "在進行contains的動作時，以現實生活來看，就像是把每個類別相似的東西放在一起，然後按照先後順序排列，當要找東西時，先找類別，再找物品。"
   ]
  },
  {
   "cell_type": "markdown",
   "metadata": {},
   "source": [
    "做remove前先假設幾種情況，因為我已經假設重複的key不會在加進去，所以刪除只要刪除一個，再來如果是判斷位置，假設目標在第一個位置，那只要把下一個listnode變成第一個就可以，如果是在其他位置的話，把前一個listnode和下一個listnode接起來。"
   ]
  },
  {
   "cell_type": "code",
   "execution_count": 56,
   "metadata": {},
   "outputs": [],
   "source": [
    "class ListNode:\n",
    "    def __init__(self, val):\n",
    "        self.val = val\n",
    "        self.next = None\n",
    "        \n",
    "class MyHashSet:\n",
    "    def __init__(self, capacity = 5):\n",
    "        self.capacity = capacity\n",
    "        self.data = [None] * self.capacity\n",
    "    \n",
    "    def add(self, key):\n",
    "        h = MD5.new()                   \n",
    "        h.update(key.encode(\"UTF-8\"))   \n",
    "        x = int(h.hexdigest(), 16)      \n",
    "        k = x % self.capacity           \n",
    "        target = self.data[k]           \n",
    "        while target:                   \n",
    "            if target.val == x:         \n",
    "                return                  \n",
    "            else:\n",
    "                target = target.next    \n",
    "        new_listnode = ListNode(x)      \n",
    "        new_listnode.next = self.data[k]\n",
    "        self.data[k] = new_listnode     \n",
    "    \n",
    "    def remove(self, key):\n",
    "        h = MD5.new()\n",
    "        h.update(key.encode(\"UTF-8\"))\n",
    "        x = int(h.hexdigest(),16)\n",
    "        k = x % self.capacity\n",
    "        target = self.data[k]        \n",
    "        while target:\n",
    "            if target.val == x:                   ##假設第一個是目標，所以直接把self.data[k]的下一個指向target.next即可\n",
    "                self.data[k] = target.next\n",
    "                return\n",
    "            else:\n",
    "                previous = None\n",
    "            while target:                         ##假如目標並不在第一個，previous.next指向target.next\n",
    "                if target.val == x:\n",
    "                    previous.next = target.next\n",
    "                    return\n",
    "                else:\n",
    "                    previous = target\n",
    "                    target = target.next\n",
    "        \n",
    "    def contains(self, key):\n",
    "        h = MD5.new()\n",
    "        h.update(key.encode(\"UTF-8\"))\n",
    "        x = int(h.hexdigest(), 16)\n",
    "        k = x % self.capacity\n",
    "        target = self.data[k]\n",
    "        while target:\n",
    "            if target.val == x:      \n",
    "                return True          \n",
    "            else:                    \n",
    "                target = target.next\n",
    "        return False                 "
   ]
  },
  {
   "cell_type": "code",
   "execution_count": 57,
   "metadata": {},
   "outputs": [
    {
     "name": "stdout",
     "output_type": "stream",
     "text": [
      "True\n",
      "True\n",
      "False\n",
      "True\n",
      "False\n"
     ]
    }
   ],
   "source": [
    "hashset = MyHashSet()\n",
    "hashset.add(\"dog\")\n",
    "hashset.add(\"pig\")\n",
    "rel = hashset.contains(\"pig\")\n",
    "print(rel)\n",
    "rel = hashset.contains(\"dog\")\n",
    "print(rel)\n",
    "rel = hashset.contains(\"cat\")\n",
    "print(rel)\n",
    "hashset.add(\"bird\")\n",
    "rel = hashset.contains(\"bird\")\n",
    "print(rel)\n",
    "hashset.remove(\"pig\")\n",
    "rel = hashset.contains(\"pig\")\n",
    "print(rel)"
   ]
  },
  {
   "cell_type": "markdown",
   "metadata": {},
   "source": [
    "助教說明capacity不一定等於5，故把capacity = 5拿掉。"
   ]
  },
  {
   "cell_type": "code",
   "execution_count": 58,
   "metadata": {},
   "outputs": [],
   "source": [
    "from Crypto.Hash import MD5\n",
    "\n",
    "class ListNode:\n",
    "    def __init__(self, val):\n",
    "        self.val = val\n",
    "        self.next = None\n",
    "        \n",
    "class MyHashSet:\n",
    "    def __init__(self, capacity):\n",
    "        self.capacity = capacity\n",
    "        self.data = [None] * self.capacity\n",
    "    \n",
    "    def add(self, key):\n",
    "        h = MD5.new()                   \n",
    "        h.update(key.encode(\"UTF-8\"))   \n",
    "        x = int(h.hexdigest(), 16)      \n",
    "        k = x % self.capacity           \n",
    "        target = self.data[k]           \n",
    "        while target:                   \n",
    "            if target.val == x:         \n",
    "                return                  \n",
    "            else:\n",
    "                target = target.next    \n",
    "        new_listnode = ListNode(x)      \n",
    "        new_listnode.next = self.data[k]\n",
    "        self.data[k] = new_listnode     \n",
    "    \n",
    "    def remove(self, key):\n",
    "        h = MD5.new()\n",
    "        h.update(key.encode(\"UTF-8\"))\n",
    "        x = int(h.hexdigest(),16)\n",
    "        k = x % self.capacity\n",
    "        target = self.data[k]        \n",
    "        while target:\n",
    "            if target.val == x:\n",
    "                self.data[k] = target.next\n",
    "                return\n",
    "            else:\n",
    "                previous = None\n",
    "            while target:\n",
    "                if target.val == x:\n",
    "                    previous.next = target.next\n",
    "                    return\n",
    "                else:\n",
    "                    previous = target\n",
    "                    target = target.next\n",
    "              \n",
    "    def contains(self, key):\n",
    "        h = MD5.new()\n",
    "        h.update(key.encode(\"UTF-8\"))\n",
    "        x = int(h.hexdigest(), 16)\n",
    "        k = x % self.capacity\n",
    "        target = self.data[k]\n",
    "        while target:\n",
    "            if target.val == x:      \n",
    "                return True          \n",
    "            else:                    \n",
    "                target = target.next\n",
    "        return False"
   ]
  },
  {
   "cell_type": "markdown",
   "metadata": {},
   "source": [
    "#### 參考網址1 https://www.youtube.com/watch?v=7C5f2ttq79Y&feature=youtu.be\n",
    "#### 參考網址2 https://www.tutorialspoint.com/python_data_structure/python_hash_table.htm\n",
    "#### 參考網址3 https://www.youtube.com/watch?v=zHi5v78W1f0\n",
    "#### 參考網址4 https://www.youtube.com/watch?v=MfhjkfocRR0\n",
    "#### 參考網址5 https://www.youtube.com/watch?v=KyUTuwz_b7Q"
   ]
  },
  {
   "cell_type": "markdown",
   "metadata": {},
   "source": [
    "流程圖"
   ]
  },
  {
   "cell_type": "code",
   "execution_count": 30,
   "metadata": {},
   "outputs": [
    {
     "data": {
      "text/html": [
       "<img src=\"https://github.com/MorrisLee000/Practice/blob/master/Week13/20191206_002034.jpg?raw=true\"/>"
      ],
      "text/plain": [
       "<IPython.core.display.Image object>"
      ]
     },
     "execution_count": 30,
     "metadata": {},
     "output_type": "execute_result"
    }
   ],
   "source": [
    "from IPython.display import Image\n",
    "from IPython.core.display import HTML\n",
    "Image(url= \"https://github.com/MorrisLee000/Practice/blob/master/Week13/20191206_002034.jpg?raw=true\")"
   ]
  },
  {
   "cell_type": "code",
   "execution_count": 31,
   "metadata": {},
   "outputs": [
    {
     "data": {
      "text/html": [
       "<img src=\"https://github.com/MorrisLee000/Practice/blob/master/Week13/20191206_002038.jpg?raw=true\"/>"
      ],
      "text/plain": [
       "<IPython.core.display.Image object>"
      ]
     },
     "execution_count": 31,
     "metadata": {},
     "output_type": "execute_result"
    }
   ],
   "source": [
    "from IPython.display import Image\n",
    "from IPython.core.display import HTML\n",
    "Image(url= \"https://github.com/MorrisLee000/Practice/blob/master/Week13/20191206_002038.jpg?raw=true\")"
   ]
  },
  {
   "cell_type": "markdown",
   "metadata": {},
   "source": [
    "## Hash table的原理"
   ]
  },
  {
   "cell_type": "markdown",
   "metadata": {},
   "source": [
    "hash table 是先透過建立一個array，然後再進行分類插入，array的數量可以自己設定，假如數量為5，就會產生五格，新增的東西，會依照數字除於格子數量來去確定他要放到哪邊，插入新的資料，用格子指向目標，然後如果有新的就繼續往下一個去指向，因此他不會有插入在前面或者中間的問題，一率都插在最後一個資料的後面，在尋找是否包含時，先從目標的餘數，判斷他會在哪個格子後面，再往裡面找。"
   ]
  }
 ],
 "metadata": {
  "kernelspec": {
   "display_name": "Python 3",
   "language": "python",
   "name": "python3"
  },
  "language_info": {
   "codemirror_mode": {
    "name": "ipython",
    "version": 3
   },
   "file_extension": ".py",
   "mimetype": "text/x-python",
   "name": "python",
   "nbconvert_exporter": "python",
   "pygments_lexer": "ipython3",
   "version": "3.7.1"
  }
 },
 "nbformat": 4,
 "nbformat_minor": 2
}
