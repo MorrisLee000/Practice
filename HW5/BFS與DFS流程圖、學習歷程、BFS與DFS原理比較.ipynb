{
 "cells": [
  {
   "cell_type": "markdown",
   "metadata": {},
   "source": [
    "## 學習歷程與程式碼"
   ]
  },
  {
   "cell_type": "code",
   "execution_count": 2,
   "metadata": {},
   "outputs": [
    {
     "data": {
      "text/plain": [
       "2"
      ]
     },
     "execution_count": 2,
     "metadata": {},
     "output_type": "execute_result"
    }
   ],
   "source": [
    "list2 = [\"E\",\"C\",\"E\"]\n",
    "list2.count(\"E\")"
   ]
  },
  {
   "cell_type": "code",
   "execution_count": 3,
   "metadata": {},
   "outputs": [
    {
     "name": "stdout",
     "output_type": "stream",
     "text": [
      "8\n",
      "3\n"
     ]
    }
   ],
   "source": [
    "a = [1,4,5,7,1,8,3,1]\n",
    "print(len(a))\n",
    "print(a.count(1))"
   ]
  },
  {
   "cell_type": "code",
   "execution_count": 4,
   "metadata": {},
   "outputs": [
    {
     "name": "stdout",
     "output_type": "stream",
     "text": [
      "1\n",
      "8\n"
     ]
    }
   ],
   "source": [
    "print(a[-1])\n",
    "print(a[-3])"
   ]
  },
  {
   "cell_type": "code",
   "execution_count": 12,
   "metadata": {},
   "outputs": [
    {
     "name": "stdout",
     "output_type": "stream",
     "text": [
      "1\n",
      "4\n",
      "5\n",
      "7\n",
      "1\n",
      "8\n",
      "3\n",
      "1\n"
     ]
    }
   ],
   "source": [
    "a = [1,4,5,7,1,8,3,1]\n",
    "for i in a:\n",
    "    print(i)"
   ]
  },
  {
   "cell_type": "code",
   "execution_count": 13,
   "metadata": {},
   "outputs": [
    {
     "name": "stdout",
     "output_type": "stream",
     "text": [
      "T\n",
      "F\n",
      "F\n",
      "F\n",
      "T\n",
      "F\n",
      "F\n",
      "T\n"
     ]
    }
   ],
   "source": [
    "a = [1,4,5,7,1,8,3,1]\n",
    "for i in a:\n",
    "    if i == 1:\n",
    "        print(\"T\")\n",
    "    else:\n",
    "        print(\"F\")"
   ]
  },
  {
   "cell_type": "code",
   "execution_count": 16,
   "metadata": {},
   "outputs": [
    {
     "name": "stdout",
     "output_type": "stream",
     "text": [
      "[1, 1, 1]\n"
     ]
    }
   ],
   "source": [
    "a = [1,4,5,7,1,8,3,1]\n",
    "b = []\n",
    "i = 0\n",
    "while len(b) != a.count(1):\n",
    "    for i in a:\n",
    "        if i == 1:\n",
    "            b.append(i)\n",
    "        else:\n",
    "            pass\n",
    "    i += 1\n",
    "print(b)"
   ]
  },
  {
   "cell_type": "markdown",
   "metadata": {},
   "source": [
    "###  這是12月10日與同學進行pair programming出來的結果，確定可以執行程式，而且跑測值也沒問題，但是回去後我想對某些地方進行修改不知道可不可以執行。"
   ]
  },
  {
   "cell_type": "code",
   "execution_count": 5,
   "metadata": {},
   "outputs": [],
   "source": [
    "from collections import defaultdict\n",
    "class Graph:\n",
    "    def __init__(self): \n",
    "        self.graph = defaultdict(list)\n",
    "\n",
    "    def addEdge(self,u,v): \n",
    "        self.graph[u].append(v) \n",
    "        return\n",
    "    \n",
    "    def BFS(self, s): \n",
    "        array1 = []\n",
    "        array2 = []\n",
    "        array2.append(s)\n",
    "        i = 0\n",
    "        while len(array2) != len(self.graph):                   ##這邊開始進行迴圈，使用len(array2)和len(self.graph)比較，原因\n",
    "            for j in self.graph[s]:                             ##最後array2的長度應該要與self.graph一樣。\n",
    "                if array1.count(j)==0 and array2.count(j)==0:   ##這邊先判斷array1和array2是否已經有這個值，如果都沒有，才會先\n",
    "                    array1.append(j)                            ##放進array1\n",
    "                else:\n",
    "                    pass\n",
    "            array2.append(array1[0])                            ##array2直接插入array1的第一個數值，因為插入後就會把array1的第\n",
    "            array1.pop(0)                                       ##一個值給刪除\n",
    "            i += 1\n",
    "            s = array2[i]                                       ##s要轉換到array2裡面的下一個數值\n",
    "        return array2\n",
    "    \n",
    "    def DFS(self, s):\n",
    "        array1 = []\n",
    "        array2 = []\n",
    "        array2.append(s)\n",
    "        while len(array2) != len(self.graph):\n",
    "            for i in self.graph[s]:\n",
    "                if array1.count(i)==0 and array2.count(i)==0:\n",
    "                    array1.append(i)\n",
    "                else:\n",
    "                    pass\n",
    "            array2.append(array1[-1])                            ##DFS是先去找最尾端的數值，所以array2插入array1最後一個數值\n",
    "            s = array1[-1]                                       ##s轉換到array1的最後一個值\n",
    "            array1.pop(-1)                                       ##刪掉array1的最後一個值\n",
    "        return array2"
   ]
  },
  {
   "cell_type": "code",
   "execution_count": 6,
   "metadata": {},
   "outputs": [
    {
     "name": "stdout",
     "output_type": "stream",
     "text": [
      "[2, 0, 3, 1]\n",
      "[2, 3, 0, 1]\n"
     ]
    }
   ],
   "source": [
    "a = Graph()\n",
    "a.addEdge(0, 1)\n",
    "a.addEdge(0, 2)\n",
    "a.addEdge(1, 2)\n",
    "a.addEdge(2, 0)\n",
    "a.addEdge(2, 3)\n",
    "a.addEdge(3, 3)\n",
    "\n",
    "print(a.BFS(2))\n",
    "print(a.DFS(2))"
   ]
  },
  {
   "cell_type": "markdown",
   "metadata": {},
   "source": [
    "我和同學在pair programming討論時，感覺其實DFS和BFS有點像，主要差別迴圈下面的程式順序改變。因為BFS是按照順序從最前面開始，而DFS則是從最後開始。"
   ]
  },
  {
   "cell_type": "markdown",
   "metadata": {},
   "source": [
    "回去後我對BFS進行了修改，因為我在想能不能不用假設變數來進行s的轉換。如果可以的畫可以使BFS和DFS變得更像，可以去進行比較。"
   ]
  },
  {
   "cell_type": "code",
   "execution_count": 7,
   "metadata": {},
   "outputs": [],
   "source": [
    "from collections import defaultdict\n",
    "class Graph:\n",
    "    def __init__(self):\n",
    "        self.graph = defaultdict(list)\n",
    "        \n",
    "    def addEdge(self, u, v):\n",
    "        self.graph[u].append(v)\n",
    "    \n",
    "    def BFS(self, s): \n",
    "        array1 = []\n",
    "        array2 = []\n",
    "        array2.append(s)\n",
    "        while len(array2) != len(self.graph):\n",
    "            for i in self.graph[s]:\n",
    "                if array1.count(i)==0 and array2.count(i)==0:\n",
    "                    array1.append(i)\n",
    "                else:\n",
    "                    pass\n",
    "            array2.append(array1[0])\n",
    "            array1.pop(0)\n",
    "            s = array2[-1]              ##我修改的地方在這邊，因為array1的下一個數值會放到array2，所以我想說array2要轉到下一個值，\n",
    "        return array2                   ##而且下一個值又是array2目前的最後一個，就直接把位置指向array2[-1]就行了。\n",
    "    \n",
    "    def DFS(self, s):\n",
    "        array1 = []\n",
    "        array2 = []\n",
    "        array2.append(s)\n",
    "        while len(array2) != len(self.graph):\n",
    "            for i in self.graph[s]:\n",
    "                if array1.count(i)==0 and array2.count(i)==0:\n",
    "                    array1.append(i)\n",
    "                else:\n",
    "                    pass\n",
    "            array2.append(array1[-1])   ##這邊是我在寫流程圖時想到的，我想說BFS和DFS的差異就在插入的目標和刪除的目標不同而已\n",
    "            array1.pop(-1)              ##所以我進行了一點點修改，最後測試結果是可以的。\n",
    "            s = array2[-1]\n",
    "        return array2"
   ]
  },
  {
   "cell_type": "code",
   "execution_count": 8,
   "metadata": {},
   "outputs": [
    {
     "name": "stdout",
     "output_type": "stream",
     "text": [
      "[2, 0, 3, 1]\n",
      "[2, 3, 0, 1]\n"
     ]
    }
   ],
   "source": [
    "a = Graph()\n",
    "a.addEdge(0, 1)\n",
    "a.addEdge(0, 2)\n",
    "a.addEdge(1, 2)\n",
    "a.addEdge(2, 0)\n",
    "a.addEdge(2, 3)\n",
    "a.addEdge(3, 3)\n",
    "\n",
    "print(a.BFS(2))\n",
    "print(a.DFS(2))"
   ]
  },
  {
   "cell_type": "code",
   "execution_count": 9,
   "metadata": {},
   "outputs": [
    {
     "name": "stdout",
     "output_type": "stream",
     "text": [
      "[2, 0, 3, 4, 1, 5, 6]\n",
      "[2, 4, 6, 5, 3, 0, 1]\n"
     ]
    }
   ],
   "source": [
    "g = Graph()\n",
    "g.addEdge(0, 1)\n",
    "g.addEdge(0, 2)\n",
    "g.addEdge(1, 2)\n",
    "g.addEdge(2, 0)\n",
    "g.addEdge(2, 3)\n",
    "g.addEdge(3, 3)\n",
    "g.addEdge(2, 4)\n",
    "g.addEdge(4, 5)\n",
    "g.addEdge(4, 6)\n",
    "g.addEdge(5, 6)\n",
    "g.addEdge(6, 6)\n",
    "\n",
    "print(g.BFS(2))  ##[2,0,3,4,1,5,6]\n",
    "print(g.DFS(2))  ##[2,4,6,5,3,0,1]"
   ]
  },
  {
   "cell_type": "code",
   "execution_count": 10,
   "metadata": {
    "scrolled": true
   },
   "outputs": [
    {
     "name": "stdout",
     "output_type": "stream",
     "text": [
      "['E', 'B', 'C', 'F', 'A', 'G', 'H', 'I', 'D']\n",
      "['E', 'F', 'I', 'G', 'H', 'D', 'A', 'C', 'B']\n"
     ]
    }
   ],
   "source": [
    "g = Graph()\n",
    "g.addEdge(\"A\", \"B\")\n",
    "g.addEdge(\"A\", \"C\")\n",
    "g.addEdge(\"A\", \"D\")\n",
    "g.addEdge(\"B\", \"A\")\n",
    "g.addEdge(\"B\", \"E\")\n",
    "g.addEdge(\"C\", \"A\")\n",
    "g.addEdge(\"C\", \"E\")\n",
    "g.addEdge(\"C\", \"F\")\n",
    "g.addEdge(\"C\", \"G\")\n",
    "g.addEdge(\"C\", \"H\")\n",
    "g.addEdge(\"D\", \"A\")\n",
    "g.addEdge(\"D\", \"H\")\n",
    "g.addEdge(\"E\", \"B\")\n",
    "g.addEdge(\"E\", \"C\")\n",
    "g.addEdge(\"E\", \"F\")\n",
    "g.addEdge(\"F\", \"C\")\n",
    "g.addEdge(\"F\", \"E\")\n",
    "g.addEdge(\"F\", \"I\")\n",
    "g.addEdge(\"G\", \"C\")\n",
    "g.addEdge(\"G\", \"H\")\n",
    "g.addEdge(\"G\", \"I\")\n",
    "g.addEdge(\"H\", \"C\")\n",
    "g.addEdge(\"H\", \"D\")\n",
    "g.addEdge(\"H\", \"G\")\n",
    "g.addEdge(\"I\", \"F\")\n",
    "g.addEdge(\"I\", \"G\")\n",
    "\n",
    "print(g.BFS(\"E\"))\n",
    "print(g.DFS(\"E\"))"
   ]
  },
  {
   "cell_type": "markdown",
   "metadata": {},
   "source": [
    "之後的測試結果證明了我的想法並沒有錯誤，跑出來的值確實跟實際操作一樣。"
   ]
  },
  {
   "cell_type": "markdown",
   "metadata": {},
   "source": [
    "這次pair programming就已經完成了，回去後我根據我的想法做了點小小的修改，根據最後的結果來看。上課時有些壓力會無法完全思考透徹，但回去操作時，就發現了這些小細節可以去修改看看。"
   ]
  },
  {
   "cell_type": "markdown",
   "metadata": {},
   "source": [
    "## BFS和DFS原理與比較"
   ]
  },
  {
   "cell_type": "markdown",
   "metadata": {},
   "source": [
    "兩者都是用來確認每個點是否都有聯結起來，以及個別的點與其他點是否有連結。先給出起點後，依照各自的方法來找出結果。\n",
    "BFS和DFS不同的地方在，BFS以階層為單位慢慢找，如果level1的點還沒找完，不會找level2的點；DFS則是以該階層中最後一個找到的點維新的目標，去找下一個點，所以最先找到的點會放在最後面。"
   ]
  },
  {
   "cell_type": "markdown",
   "metadata": {},
   "source": [
    "## 流程圖"
   ]
  },
  {
   "cell_type": "code",
   "execution_count": 1,
   "metadata": {},
   "outputs": [
    {
     "data": {
      "text/html": [
       "<img src=\"https://github.com/MorrisLee000/Practice/blob/master/picture/20191220_001627.jpg?raw=true\"/>"
      ],
      "text/plain": [
       "<IPython.core.display.Image object>"
      ]
     },
     "execution_count": 1,
     "metadata": {},
     "output_type": "execute_result"
    }
   ],
   "source": [
    "from IPython.display import Image\n",
    "from IPython.core.display import HTML\n",
    "Image(url= \"https://github.com/MorrisLee000/Practice/blob/master/picture/20191220_001627.jpg?raw=true\")"
   ]
  },
  {
   "cell_type": "markdown",
   "metadata": {},
   "source": [
    "## 參考網址"
   ]
  },
  {
   "cell_type": "markdown",
   "metadata": {},
   "source": [
    "#### https://www.geeksforgeeks.org/breadth-first-search-or-bfs-for-a-graph/\n",
    "#### https://super9.space/archives/1562\n",
    "#### https://www.programiz.com/dsa/graph-bfs\n",
    "#### https://stackoverflow.com/questions/43430309/depth-first-search-dfs-code-in-python/43869149\n",
    "#### https://www.itread01.com/content/1542363063.html\n",
    "#### https://eddmann.com/posts/depth-first-search-and-breadth-first-search-in-python/"
   ]
  }
 ],
 "metadata": {
  "kernelspec": {
   "display_name": "Python 3",
   "language": "python",
   "name": "python3"
  },
  "language_info": {
   "codemirror_mode": {
    "name": "ipython",
    "version": 3
   },
   "file_extension": ".py",
   "mimetype": "text/x-python",
   "name": "python",
   "nbconvert_exporter": "python",
   "pygments_lexer": "ipython3",
   "version": "3.7.1"
  }
 },
 "nbformat": 4,
 "nbformat_minor": 2
}
