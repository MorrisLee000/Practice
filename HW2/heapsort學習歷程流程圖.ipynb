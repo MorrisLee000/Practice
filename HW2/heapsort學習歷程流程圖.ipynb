{
 "cells": [
  {
   "cell_type": "markdown",
   "metadata": {},
   "source": [
    "HeapSort"
   ]
  },
  {
   "cell_type": "markdown",
   "metadata": {},
   "source": [
    "Heapsort概念，先把list的元素排成一棵樹，且每棵樹都只能接兩個元素。在比較大小，先比較左邊再比較右邊，比較完後去進行位置調整，然後因為是maxheap所以最大的元素會在最上面，把它和最後一個元素交換位置，然後提出再重複動作"
   ]
  },
  {
   "cell_type": "code",
   "execution_count": 74,
   "metadata": {},
   "outputs": [],
   "source": [
    "def heapsort(list):\n",
    "    n = len(list)  ##因為heapsort排列是一個接一個，所以需要需要每一個元素的位置\n",
    "    \n",
    "    for i in range(n, -1, -1):   ##這邊是用來進行max_heap_sort\n",
    "        heapify(list, n, i)\n",
    "    \n",
    "    return list\n",
    "\n",
    "def heapify(list, n, i):\n",
    "    l = 2 * i + 1        ##偶數位置的數值會被放在左邊\n",
    "    r = 2 * i + 2        ##奇數位置的數值會被放在右邊\n",
    "    if l < n and list[i] < list[l]:  ##先拿左邊來比較，假如list[l]>list[i]，那largest = l,如果list[l]<list[i]，那就維持\n",
    "        list[i], list[l] = list[l], list[i]\n",
    "    if r < n and list[l] < list[r]:  ##再來換成拿右邊來比較，跟上面左邊的情況類似。\n",
    "        list[l], list[r] = list[r], list[l]\n",
    "        "
   ]
  },
  {
   "cell_type": "code",
   "execution_count": 75,
   "metadata": {},
   "outputs": [],
   "source": [
    "list = [-1,6,0,-14,0,3,7,15]"
   ]
  },
  {
   "cell_type": "code",
   "execution_count": 76,
   "metadata": {},
   "outputs": [
    {
     "data": {
      "text/plain": [
       "[15, 3, -1, 6, 0, 7, 0, -14]"
      ]
     },
     "execution_count": 76,
     "metadata": {},
     "output_type": "execute_result"
    }
   ],
   "source": [
    "heapsort(list)"
   ]
  },
  {
   "cell_type": "markdown",
   "metadata": {},
   "source": [
    "好像跟想的有點不太一樣"
   ]
  },
  {
   "cell_type": "code",
   "execution_count": 77,
   "metadata": {},
   "outputs": [],
   "source": [
    "def heapsort(list):\n",
    "    n = len(list)\n",
    "    \n",
    "    for i in range(n, -1, -1):\n",
    "        heapify(list, n, i)\n",
    "    \n",
    "    return list\n",
    "\n",
    "def heapify(list, n, i):\n",
    "    large = i            ##因為要進行交換，所以設置一個變數large，用來代表位置\n",
    "    l = 2 * i + 1\n",
    "    r = 2 * i + 2\n",
    "    if l < n and list[i] < list[l]:\n",
    "        large = l\n",
    "    if r < n and list[l] < list[r]:\n",
    "        large = r\n",
    "\n",
    "    if large != i:       ##額外做一個if判斷來進行交換\n",
    "        list[i], list[large] = list[large], list[i]"
   ]
  },
  {
   "cell_type": "code",
   "execution_count": 78,
   "metadata": {},
   "outputs": [],
   "source": [
    "list = [-1,6,0,-14,0,3,7,15]"
   ]
  },
  {
   "cell_type": "code",
   "execution_count": 79,
   "metadata": {},
   "outputs": [
    {
     "data": {
      "text/plain": [
       "[15, -1, 7, 6, 0, 3, 0, -14]"
      ]
     },
     "execution_count": 79,
     "metadata": {},
     "output_type": "execute_result"
    }
   ],
   "source": [
    "heapsort(list)"
   ]
  },
  {
   "cell_type": "markdown",
   "metadata": {},
   "source": [
    "還是不像maxheap的結果"
   ]
  },
  {
   "cell_type": "code",
   "execution_count": 80,
   "metadata": {},
   "outputs": [],
   "source": [
    "def heapsort(list):\n",
    "    n = len(list)\n",
    "    \n",
    "    for i in range(n, -1, -1):\n",
    "        heapify(list, n, i)\n",
    "    \n",
    "    return list\n",
    "\n",
    "def heapify(list, n, i):\n",
    "    large = i\n",
    "    l = 2 * i + 1\n",
    "    r = 2 * i + 2\n",
    "    if l < n and list[i] < list[l]:\n",
    "        large = l\n",
    "    if r < n and list[l] < list[r]:\n",
    "        large = r\n",
    "\n",
    "    if large != i:                 ##這邊是進行交換的程式\n",
    "        list[i], list[large] = list[large], list[i]\n",
    "    \n",
    "        heapify(list, n, large)    ##因為不會只比較一個地方，所以每個地方都要比對一次"
   ]
  },
  {
   "cell_type": "code",
   "execution_count": 81,
   "metadata": {},
   "outputs": [],
   "source": [
    "list = [-1,6,0,-14,0,3,7,15]"
   ]
  },
  {
   "cell_type": "code",
   "execution_count": 82,
   "metadata": {},
   "outputs": [
    {
     "data": {
      "text/plain": [
       "[15, 6, 7, -1, 0, 3, 0, -14]"
      ]
     },
     "execution_count": 82,
     "metadata": {},
     "output_type": "execute_result"
    }
   ],
   "source": [
    "heapsort(list)"
   ]
  },
  {
   "cell_type": "markdown",
   "metadata": {},
   "source": [
    "終於變成一個heapsort，但是跟最後結果還是不一樣，還沒有進行排列和提出。"
   ]
  },
  {
   "cell_type": "code",
   "execution_count": 83,
   "metadata": {},
   "outputs": [],
   "source": [
    "def heapsort(list):\n",
    "    n = len(list)\n",
    "    \n",
    "    for i in range(n, -1, -1):\n",
    "        heapify(list, n, i)\n",
    "  \n",
    "    for i in range(n-1, 0, -1):               ##這邊進行最大值與最後一個位置的數值交換，因為heapsort最後排序需要把\n",
    "        list[i], list[0] = list[0], list[i]   ##最大值放到最後一個並且提出來\n",
    "        heapify(list, i, 0)                   ##然後重新進到heapify排列\n",
    "    \n",
    "    return list\n",
    "\n",
    "def heapify(list, n, i):\n",
    "    large = i\n",
    "    l = 2 * i + 1\n",
    "    r = 2 * i + 2\n",
    "    if l < n and list[i] < list[l]:\n",
    "        large = l\n",
    "    if r < n and list[l] < list[r]:\n",
    "        large = r\n",
    "\n",
    "    if large != i:\n",
    "        list[i], list[large] = list[large], list[i]\n",
    "    \n",
    "        heapify(list, n, large)"
   ]
  },
  {
   "cell_type": "code",
   "execution_count": 84,
   "metadata": {},
   "outputs": [],
   "source": [
    "list = [-1,6,0,-14,0,3,7,15]"
   ]
  },
  {
   "cell_type": "code",
   "execution_count": 85,
   "metadata": {},
   "outputs": [
    {
     "data": {
      "text/plain": [
       "[-14, -1, 0, 0, 3, 6, 7, 15]"
      ]
     },
     "execution_count": 85,
     "metadata": {},
     "output_type": "execute_result"
    }
   ],
   "source": [
    "heapSort(list)"
   ]
  },
  {
   "cell_type": "markdown",
   "metadata": {},
   "source": [
    "    參考網址 https://www.geeksforgeeks.org/python-program-for-heap-sort/"
   ]
  },
  {
   "cell_type": "markdown",
   "metadata": {},
   "source": [
    "按照助教格式去改"
   ]
  },
  {
   "cell_type": "code",
   "execution_count": 86,
   "metadata": {},
   "outputs": [],
   "source": [
    "class Solution(object):\n",
    "    def heap_sort(self,nums):\n",
    "        self.nums = nums\n",
    "        n = len(nums)\n",
    "\n",
    "        for i in range(n, -1, -1):\n",
    "            Solution().heapify(nums, n, i)\n",
    "\n",
    "        for i in range(n-1, 0, -1):    \n",
    "            nums[i], nums[0] = nums[0], nums[i]\n",
    "            Solution().heapify(nums, i, 0)\n",
    "\n",
    "        return nums\n",
    "\n",
    "    def heapify(self,nums, n, i):\n",
    "        large = i\n",
    "        l = 2 * i + 1\n",
    "        r = 2 * i + 2\n",
    "        if l < n and nums[i] < nums[l]:\n",
    "            large = l\n",
    "        if r < n and nums[l] < nums[r]:\n",
    "            large = r\n",
    "\n",
    "        if large != i:\n",
    "            nums[i], nums[large] = nums[large], nums[i]\n",
    "\n",
    "            Solution().heapify(nums, n, large)"
   ]
  },
  {
   "cell_type": "code",
   "execution_count": 87,
   "metadata": {},
   "outputs": [
    {
     "data": {
      "text/plain": [
       "[-14, -1, 0, 0, 3, 6, 7, 15]"
      ]
     },
     "execution_count": 87,
     "metadata": {},
     "output_type": "execute_result"
    }
   ],
   "source": [
    "output = Solution().heap_sort([-1,6,0,-14,0,3,7,15])\n",
    "output"
   ]
  },
  {
   "cell_type": "code",
   "execution_count": 16,
   "metadata": {},
   "outputs": [
    {
     "data": {
      "text/html": [
       "<img src=\"https://github.com/MorrisLee000/Practice/blob/master/Week8/20191108_000052.jpg?raw=true\"/>"
      ],
      "text/plain": [
       "<IPython.core.display.Image object>"
      ]
     },
     "execution_count": 16,
     "metadata": {},
     "output_type": "execute_result"
    }
   ],
   "source": [
    "from IPython.display import Image\n",
    "from IPython.core.display import HTML\n",
    "Image(url= \"https://github.com/MorrisLee000/Practice/blob/master/Week8/20191108_000052.jpg?raw=true\")"
   ]
  }
 ],
 "metadata": {
  "kernelspec": {
   "display_name": "Python 3",
   "language": "python",
   "name": "python3"
  },
  "language_info": {
   "codemirror_mode": {
    "name": "ipython",
    "version": 3
   },
   "file_extension": ".py",
   "mimetype": "text/x-python",
   "name": "python",
   "nbconvert_exporter": "python",
   "pygments_lexer": "ipython3",
   "version": "3.7.1"
  }
 },
 "nbformat": 4,
 "nbformat_minor": 2
}
