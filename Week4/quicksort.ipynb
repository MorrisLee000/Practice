{
 "cells": [
  {
   "cell_type": "markdown",
   "metadata": {},
   "source": [
    "# 自己先嘗試製作\n",
    "我的想法是使用if和for來進行分組排序，然後在fuction裡面重複呼叫fuction直到smalllist和biglist都剩下一個值才會停止，最後再把所有已經排序過的元素重新組合在一起。"
   ]
  },
  {
   "cell_type": "code",
   "execution_count": 47,
   "metadata": {},
   "outputs": [],
   "source": [
    "def quicksort(list):\n",
    "    smalllist = []\n",
    "    biglist = []\n",
    "    pivotlist = []\n",
    "    #設置3個list\n",
    "    if len(list) <= 1: #判斷list是否超過一個元素，如果只有一個或沒有就直接出list\n",
    "        return list\n",
    "    else:\n",
    "        pivot = list[-1]  #使用list最後面的值做為基準點:\n",
    "        for i in list:    #讓每隔元素都去與基準點比較\n",
    "            if i < pivot:\n",
    "                smalllist.append(i)\n",
    "            elif i > pivot:\n",
    "                biglist.append(i)\n",
    "            else:\n",
    "                pivotlist.append(i)\n",
    "            \n",
    "    smalllist = quicksort(smalllist)#重複呼叫fuction，直到smalllist和biglist都只剩下最後一個才會停止\n",
    "    biglist = quicksort(biglist)\n",
    "    return smalllist + pivotlist + biglist  #最後把所有元素都重新組合在一起"
   ]
  },
  {
   "cell_type": "markdown",
   "metadata": {},
   "source": [
    "這邊我做出了幾個list，用來觀察各種情況的不同結果。"
   ]
  },
  {
   "cell_type": "code",
   "execution_count": 20,
   "metadata": {},
   "outputs": [],
   "source": [
    "list = [8,-4,0,-5,3,-1]"
   ]
  },
  {
   "cell_type": "code",
   "execution_count": 21,
   "metadata": {},
   "outputs": [
    {
     "data": {
      "text/plain": [
       "[-5, -4, -1, 0, 3, 8]"
      ]
     },
     "execution_count": 21,
     "metadata": {},
     "output_type": "execute_result"
    }
   ],
   "source": [
    "quicksort(list)"
   ]
  },
  {
   "cell_type": "code",
   "execution_count": 50,
   "metadata": {},
   "outputs": [],
   "source": [
    "list = [8,-4,1200000,0,-7]"
   ]
  },
  {
   "cell_type": "code",
   "execution_count": 51,
   "metadata": {},
   "outputs": [
    {
     "data": {
      "text/plain": [
       "[-7, -4, 0, 8, 1200000]"
      ]
     },
     "execution_count": 51,
     "metadata": {},
     "output_type": "execute_result"
    }
   ],
   "source": [
    "quicksort(list)"
   ]
  },
  {
   "cell_type": "code",
   "execution_count": 52,
   "metadata": {},
   "outputs": [],
   "source": [
    "list = []"
   ]
  },
  {
   "cell_type": "code",
   "execution_count": 53,
   "metadata": {},
   "outputs": [
    {
     "data": {
      "text/plain": [
       "[]"
      ]
     },
     "execution_count": 53,
     "metadata": {},
     "output_type": "execute_result"
    }
   ],
   "source": [
    "quicksort(list)"
   ]
  },
  {
   "cell_type": "code",
   "execution_count": 54,
   "metadata": {},
   "outputs": [],
   "source": [
    "list = [0]"
   ]
  },
  {
   "cell_type": "code",
   "execution_count": 55,
   "metadata": {},
   "outputs": [
    {
     "data": {
      "text/plain": [
       "[0]"
      ]
     },
     "execution_count": 55,
     "metadata": {},
     "output_type": "execute_result"
    }
   ],
   "source": [
    "quicksort(list)"
   ]
  },
  {
   "cell_type": "markdown",
   "metadata": {},
   "source": [
    "根據程式碼的觀察來看我做的結果，只能用來進行矩陣的排序，需要直接從list去給資料，不能一個一個加進去。"
   ]
  }
 ],
 "metadata": {
  "kernelspec": {
   "display_name": "Python 3",
   "language": "python",
   "name": "python3"
  },
  "language_info": {
   "codemirror_mode": {
    "name": "ipython",
    "version": 3
   },
   "file_extension": ".py",
   "mimetype": "text/x-python",
   "name": "python",
   "nbconvert_exporter": "python",
   "pygments_lexer": "ipython3",
   "version": "3.7.1"
  }
 },
 "nbformat": 4,
 "nbformat_minor": 2
}
