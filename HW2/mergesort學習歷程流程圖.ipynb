{
 "cells": [
  {
   "cell_type": "markdown",
   "metadata": {},
   "source": [
    "Merge_Sort"
   ]
  },
  {
   "cell_type": "markdown",
   "metadata": {},
   "source": [
    "先列出想法\n",
    "先把list給分成切成不斷分成2部分，等到全部都分成1個元素的時候再比較再進行merge合併"
   ]
  },
  {
   "cell_type": "code",
   "execution_count": 94,
   "metadata": {},
   "outputs": [],
   "source": [
    "def mergesort(list):\n",
    "    if len(list) > 1:\n",
    "        mid = list[len(list)//2]  ##找到最中間的點\n",
    "        left = list[:mid]   ##分成兩個list  left是左邊的那一半  right是右邊的那一半\n",
    "        right = list[mid:]\n",
    "        \n",
    "        mergesort(left)   ##重複呼叫直到把left和right都變成剩下一個\n",
    "        mergesort(right)\n",
    "        \n",
    "        i = 0\n",
    "        j = 0\n",
    "        k = 0\n",
    "        l = len(left)\n",
    "        r = len(right)\n",
    "        \n",
    "        while i < l and j < r:            ##開始進行merge，如果 i < l , j < r 就會進入if函數\n",
    "            if left[i] < right[j]:        ##假設left[i] < right[j] 那麼 left[i]就會被放進list裡面\n",
    "                list.append = left[i]\n",
    "                i += 1                    ##進行left[i+1]去比較\n",
    "            elif left[i] > right[j]:      ##假設left[i] < right[j] 那麼 left[i]就會被放進list裡面\n",
    "                list.append = right[j]\n",
    "                j += 1                    ##進行left[i+1]去比較\n",
    "            k += 1                        ##每進行一次比較就要把list[k]往後移\n",
    "        while i < l:                      ##當都比完後把剩下沒比較的left[i]或right[j]，直接加到list裡面\n",
    "            list.append = left[i]\n",
    "            i += 1\n",
    "            k += 1\n",
    "        while j < r:\n",
    "            list.append = right[j]\n",
    "            j += 1\n",
    "            k += 1\n",
    "        \n",
    "        return list"
   ]
  },
  {
   "cell_type": "code",
   "execution_count": 95,
   "metadata": {},
   "outputs": [],
   "source": [
    "a = [-1,6,0,-14,3,7,15]"
   ]
  },
  {
   "cell_type": "code",
   "execution_count": 96,
   "metadata": {},
   "outputs": [
    {
     "ename": "RecursionError",
     "evalue": "maximum recursion depth exceeded while calling a Python object",
     "output_type": "error",
     "traceback": [
      "\u001b[1;31m---------------------------------------------------------------------------\u001b[0m",
      "\u001b[1;31mRecursionError\u001b[0m                            Traceback (most recent call last)",
      "\u001b[1;32m<ipython-input-96-b70b8569759a>\u001b[0m in \u001b[0;36m<module>\u001b[1;34m\u001b[0m\n\u001b[1;32m----> 1\u001b[1;33m \u001b[0mmergesort\u001b[0m\u001b[1;33m(\u001b[0m\u001b[0ma\u001b[0m\u001b[1;33m)\u001b[0m\u001b[1;33m\u001b[0m\u001b[1;33m\u001b[0m\u001b[0m\n\u001b[0m",
      "\u001b[1;32m<ipython-input-94-ec6525a76483>\u001b[0m in \u001b[0;36mmergesort\u001b[1;34m(list)\u001b[0m\n\u001b[0;32m      6\u001b[0m \u001b[1;33m\u001b[0m\u001b[0m\n\u001b[0;32m      7\u001b[0m         \u001b[0mmergesort\u001b[0m\u001b[1;33m(\u001b[0m\u001b[0mleft\u001b[0m\u001b[1;33m)\u001b[0m   \u001b[1;31m##重複呼叫直到把left和right都變成剩下一個\u001b[0m\u001b[1;33m\u001b[0m\u001b[1;33m\u001b[0m\u001b[0m\n\u001b[1;32m----> 8\u001b[1;33m         \u001b[0mmergesort\u001b[0m\u001b[1;33m(\u001b[0m\u001b[0mright\u001b[0m\u001b[1;33m)\u001b[0m\u001b[1;33m\u001b[0m\u001b[1;33m\u001b[0m\u001b[0m\n\u001b[0m\u001b[0;32m      9\u001b[0m \u001b[1;33m\u001b[0m\u001b[0m\n\u001b[0;32m     10\u001b[0m         \u001b[0mi\u001b[0m \u001b[1;33m=\u001b[0m \u001b[1;36m0\u001b[0m\u001b[1;33m\u001b[0m\u001b[1;33m\u001b[0m\u001b[0m\n",
      "... last 1 frames repeated, from the frame below ...\n",
      "\u001b[1;32m<ipython-input-94-ec6525a76483>\u001b[0m in \u001b[0;36mmergesort\u001b[1;34m(list)\u001b[0m\n\u001b[0;32m      6\u001b[0m \u001b[1;33m\u001b[0m\u001b[0m\n\u001b[0;32m      7\u001b[0m         \u001b[0mmergesort\u001b[0m\u001b[1;33m(\u001b[0m\u001b[0mleft\u001b[0m\u001b[1;33m)\u001b[0m   \u001b[1;31m##重複呼叫直到把left和right都變成剩下一個\u001b[0m\u001b[1;33m\u001b[0m\u001b[1;33m\u001b[0m\u001b[0m\n\u001b[1;32m----> 8\u001b[1;33m         \u001b[0mmergesort\u001b[0m\u001b[1;33m(\u001b[0m\u001b[0mright\u001b[0m\u001b[1;33m)\u001b[0m\u001b[1;33m\u001b[0m\u001b[1;33m\u001b[0m\u001b[0m\n\u001b[0m\u001b[0;32m      9\u001b[0m \u001b[1;33m\u001b[0m\u001b[0m\n\u001b[0;32m     10\u001b[0m         \u001b[0mi\u001b[0m \u001b[1;33m=\u001b[0m \u001b[1;36m0\u001b[0m\u001b[1;33m\u001b[0m\u001b[1;33m\u001b[0m\u001b[0m\n",
      "\u001b[1;31mRecursionError\u001b[0m: maximum recursion depth exceeded while calling a Python object"
     ]
    }
   ],
   "source": [
    "mergesort(a)"
   ]
  },
  {
   "cell_type": "markdown",
   "metadata": {},
   "source": [
    "這邊錯誤顯示我在重複呼叫mergesort時超出了最大值，檢查後發現問題在mid，list[len(list)//2] = -14，改成len(list)//2 = 3就可以。"
   ]
  },
  {
   "cell_type": "code",
   "execution_count": 97,
   "metadata": {},
   "outputs": [],
   "source": [
    "def mergesort(list):\n",
    "    if len(list) > 1:\n",
    "        mid = len(list)//2  ##len(list)//2 = 3 , list[len(list)//2] = -14\n",
    "        left = list[:mid]   \n",
    "        right = list[mid:]\n",
    "        \n",
    "        mergesort(left)   \n",
    "        mergesort(right)\n",
    "        \n",
    "        i = 0\n",
    "        j = 0\n",
    "        k = 0\n",
    "        l = len(left)\n",
    "        r = len(right)\n",
    "        \n",
    "        while i < l and j < r:            \n",
    "            if left[i] < right[j]:       \n",
    "                list.append = left[i]\n",
    "                i += 1\n",
    "            elif left[i] > right[j]:\n",
    "                list.append = right[j]\n",
    "                j += 1\n",
    "            k += 1\n",
    "        while i < l:\n",
    "            list.append = left[i]\n",
    "            i += 1\n",
    "            k += 1\n",
    "        while j < r:\n",
    "            list.append = right[j]\n",
    "            j += 1\n",
    "            k += 1\n",
    "        \n",
    "        return list"
   ]
  },
  {
   "cell_type": "code",
   "execution_count": 98,
   "metadata": {},
   "outputs": [],
   "source": [
    "a = [-1,6,0,-14,3,7,15]"
   ]
  },
  {
   "cell_type": "code",
   "execution_count": 99,
   "metadata": {},
   "outputs": [
    {
     "ename": "AttributeError",
     "evalue": "'list' object attribute 'append' is read-only",
     "output_type": "error",
     "traceback": [
      "\u001b[1;31m---------------------------------------------------------------------------\u001b[0m",
      "\u001b[1;31mAttributeError\u001b[0m                            Traceback (most recent call last)",
      "\u001b[1;32m<ipython-input-99-b70b8569759a>\u001b[0m in \u001b[0;36m<module>\u001b[1;34m\u001b[0m\n\u001b[1;32m----> 1\u001b[1;33m \u001b[0mmergesort\u001b[0m\u001b[1;33m(\u001b[0m\u001b[0ma\u001b[0m\u001b[1;33m)\u001b[0m\u001b[1;33m\u001b[0m\u001b[1;33m\u001b[0m\u001b[0m\n\u001b[0m",
      "\u001b[1;32m<ipython-input-97-e0e0f1f1e153>\u001b[0m in \u001b[0;36mmergesort\u001b[1;34m(list)\u001b[0m\n\u001b[0;32m      5\u001b[0m         \u001b[0mright\u001b[0m \u001b[1;33m=\u001b[0m \u001b[0mlist\u001b[0m\u001b[1;33m[\u001b[0m\u001b[0mmid\u001b[0m\u001b[1;33m:\u001b[0m\u001b[1;33m]\u001b[0m\u001b[1;33m\u001b[0m\u001b[1;33m\u001b[0m\u001b[0m\n\u001b[0;32m      6\u001b[0m \u001b[1;33m\u001b[0m\u001b[0m\n\u001b[1;32m----> 7\u001b[1;33m         \u001b[0mmergesort\u001b[0m\u001b[1;33m(\u001b[0m\u001b[0mleft\u001b[0m\u001b[1;33m)\u001b[0m\u001b[1;33m\u001b[0m\u001b[1;33m\u001b[0m\u001b[0m\n\u001b[0m\u001b[0;32m      8\u001b[0m         \u001b[0mmergesort\u001b[0m\u001b[1;33m(\u001b[0m\u001b[0mright\u001b[0m\u001b[1;33m)\u001b[0m\u001b[1;33m\u001b[0m\u001b[1;33m\u001b[0m\u001b[0m\n\u001b[0;32m      9\u001b[0m \u001b[1;33m\u001b[0m\u001b[0m\n",
      "\u001b[1;32m<ipython-input-97-e0e0f1f1e153>\u001b[0m in \u001b[0;36mmergesort\u001b[1;34m(list)\u001b[0m\n\u001b[0;32m      6\u001b[0m \u001b[1;33m\u001b[0m\u001b[0m\n\u001b[0;32m      7\u001b[0m         \u001b[0mmergesort\u001b[0m\u001b[1;33m(\u001b[0m\u001b[0mleft\u001b[0m\u001b[1;33m)\u001b[0m\u001b[1;33m\u001b[0m\u001b[1;33m\u001b[0m\u001b[0m\n\u001b[1;32m----> 8\u001b[1;33m         \u001b[0mmergesort\u001b[0m\u001b[1;33m(\u001b[0m\u001b[0mright\u001b[0m\u001b[1;33m)\u001b[0m\u001b[1;33m\u001b[0m\u001b[1;33m\u001b[0m\u001b[0m\n\u001b[0m\u001b[0;32m      9\u001b[0m \u001b[1;33m\u001b[0m\u001b[0m\n\u001b[0;32m     10\u001b[0m         \u001b[0mi\u001b[0m \u001b[1;33m=\u001b[0m \u001b[1;36m0\u001b[0m\u001b[1;33m\u001b[0m\u001b[1;33m\u001b[0m\u001b[0m\n",
      "\u001b[1;32m<ipython-input-97-e0e0f1f1e153>\u001b[0m in \u001b[0;36mmergesort\u001b[1;34m(list)\u001b[0m\n\u001b[0;32m     19\u001b[0m                 \u001b[0mi\u001b[0m \u001b[1;33m+=\u001b[0m \u001b[1;36m1\u001b[0m\u001b[1;33m\u001b[0m\u001b[1;33m\u001b[0m\u001b[0m\n\u001b[0;32m     20\u001b[0m             \u001b[1;32melif\u001b[0m \u001b[0mleft\u001b[0m\u001b[1;33m[\u001b[0m\u001b[0mi\u001b[0m\u001b[1;33m]\u001b[0m \u001b[1;33m>\u001b[0m \u001b[0mright\u001b[0m\u001b[1;33m[\u001b[0m\u001b[0mj\u001b[0m\u001b[1;33m]\u001b[0m\u001b[1;33m:\u001b[0m\u001b[1;33m\u001b[0m\u001b[1;33m\u001b[0m\u001b[0m\n\u001b[1;32m---> 21\u001b[1;33m                 \u001b[0mlist\u001b[0m\u001b[1;33m.\u001b[0m\u001b[0mappend\u001b[0m \u001b[1;33m=\u001b[0m \u001b[0mright\u001b[0m\u001b[1;33m[\u001b[0m\u001b[0mj\u001b[0m\u001b[1;33m]\u001b[0m\u001b[1;33m\u001b[0m\u001b[1;33m\u001b[0m\u001b[0m\n\u001b[0m\u001b[0;32m     22\u001b[0m                 \u001b[0mj\u001b[0m \u001b[1;33m+=\u001b[0m \u001b[1;36m1\u001b[0m\u001b[1;33m\u001b[0m\u001b[1;33m\u001b[0m\u001b[0m\n\u001b[0;32m     23\u001b[0m             \u001b[0mk\u001b[0m \u001b[1;33m+=\u001b[0m \u001b[1;36m1\u001b[0m\u001b[1;33m\u001b[0m\u001b[1;33m\u001b[0m\u001b[0m\n",
      "\u001b[1;31mAttributeError\u001b[0m: 'list' object attribute 'append' is read-only"
     ]
    }
   ],
   "source": [
    "mergesort(a)"
   ]
  },
  {
   "cell_type": "markdown",
   "metadata": {},
   "source": [
    "這邊說list.append有問題，後來我去檢查時發現應該要改成list[k]不然會有問題，因為上課時i++ k++ 所以應該把它對應到k。"
   ]
  },
  {
   "cell_type": "code",
   "execution_count": 100,
   "metadata": {},
   "outputs": [],
   "source": [
    "def mergesort(list):\n",
    "    if len(list) > 1:\n",
    "        mid = len(list)//2  \n",
    "        left = list[:mid]   \n",
    "        right = list[mid:]\n",
    "        \n",
    "        mergesort(left)   \n",
    "        mergesort(right)\n",
    "        \n",
    "        i = 0\n",
    "        j = 0\n",
    "        k = 0\n",
    "        l = len(left)\n",
    "        r = len(right)\n",
    "        \n",
    "        while i < l and j < r:            \n",
    "            if left[i] < right[j]:\n",
    "                list[k] = left[i]   \n",
    "                i += 1\n",
    "            elif left[i] > right[j]:\n",
    "                list[k] = right[j]\n",
    "                j += 1\n",
    "            k += 1\n",
    "        while i < l:\n",
    "            list[k] = left[i]  \n",
    "            i += 1\n",
    "            k += 1\n",
    "        while j < r:\n",
    "            list[k] = right[j]\n",
    "            j += 1\n",
    "            k += 1\n",
    "        \n",
    "        return list"
   ]
  },
  {
   "cell_type": "code",
   "execution_count": 101,
   "metadata": {},
   "outputs": [],
   "source": [
    "a = [-1,6,0,-14,3,7,15]"
   ]
  },
  {
   "cell_type": "code",
   "execution_count": 102,
   "metadata": {},
   "outputs": [
    {
     "data": {
      "text/plain": [
       "[-14, -1, 0, 3, 6, 7, 15]"
      ]
     },
     "execution_count": 102,
     "metadata": {},
     "output_type": "execute_result"
    }
   ],
   "source": [
    "mergesort(a)"
   ]
  },
  {
   "cell_type": "markdown",
   "metadata": {},
   "source": [
    "接下來按照助教的格式去改。"
   ]
  },
  {
   "cell_type": "code",
   "execution_count": 103,
   "metadata": {},
   "outputs": [],
   "source": [
    "class Solution(object):\n",
    "    def merge_sort(self,nums):\n",
    "        self.nums = nums\n",
    "        if len(nums) > 1:\n",
    "            mid = len(nums)//2  \n",
    "            left = nums[:mid]   \n",
    "            right = nums[mid:]\n",
    "        \n",
    "            Solution().mergesort(left)   \n",
    "            Solution().mergesort(right)\n",
    "        \n",
    "            i = 0\n",
    "            j = 0\n",
    "            k = 0\n",
    "            l = len(left)\n",
    "            r = len(right)\n",
    "\n",
    "            while i < l and j < r:            \n",
    "                if left[i] < right[j]:\n",
    "                    nums[k] = left[i]\n",
    "                    i += 1\n",
    "                elif left[i] > right[j]:\n",
    "                    nums[k] = right[j]\n",
    "                    j += 1\n",
    "                k += 1\n",
    "            while i < l:\n",
    "                nums[k] = left[i]\n",
    "                i += 1\n",
    "                k += 1\n",
    "            while j < r:\n",
    "                nums[k] = right[j]\n",
    "                j += 1\n",
    "                k += 1\n",
    "\n",
    "            return nums"
   ]
  },
  {
   "cell_type": "markdown",
   "metadata": {},
   "source": [
    "參考網址 https://runestone.academy/runestone/books/published/pythonds/SortSearch/TheMergeSort.html"
   ]
  },
  {
   "cell_type": "markdown",
   "metadata": {},
   "source": [
    "交作業前一天想到一個問題，我的mergesort只有比較哪一邊大然後放進去，卻忽略了假如l[i]=r[j]的問題。"
   ]
  },
  {
   "cell_type": "code",
   "execution_count": 104,
   "metadata": {},
   "outputs": [],
   "source": [
    "def mergesort(list):\n",
    "    if len(list) > 1:\n",
    "        mid = len(list)//2  \n",
    "        left = list[:mid]   \n",
    "        right = list[mid:]\n",
    "        \n",
    "        mergesort(left)   \n",
    "        mergesort(right)\n",
    "        \n",
    "        i = 0\n",
    "        j = 0\n",
    "        k = 0\n",
    "        l = len(left)\n",
    "        r = len(right)\n",
    "        \n",
    "        while i < l and j < r:            \n",
    "            if left[i] < right[j]:\n",
    "                list[k] = left[i]   \n",
    "                i += 1\n",
    "            elif left[i] > right[j]:\n",
    "                list[k] = right[j]\n",
    "                j += 1\n",
    "            elif left[i] == right[j]:  ##補上假如left[i] = right[j]的話，先把left[i]放進list[k]然後 i += 1 ，left[i+1]如果比\n",
    "                list[k] = left[i]      ##right[j]大的話，rigjt[j]會放進list[k]裡面。\n",
    "                i += 1\n",
    "            k += 1\n",
    "        while i < l:\n",
    "            list[k] = left[i]  \n",
    "            i += 1\n",
    "            k += 1\n",
    "        while j < r:\n",
    "            list[k] = right[j]\n",
    "            j += 1\n",
    "            k += 1\n",
    "        \n",
    "        return list"
   ]
  },
  {
   "cell_type": "code",
   "execution_count": 105,
   "metadata": {},
   "outputs": [],
   "source": [
    "a = [-1,6,0,-14,0,3,7,15]"
   ]
  },
  {
   "cell_type": "code",
   "execution_count": 106,
   "metadata": {},
   "outputs": [
    {
     "data": {
      "text/plain": [
       "[-14, -1, 0, 0, 3, 6, 7, 15]"
      ]
     },
     "execution_count": 106,
     "metadata": {},
     "output_type": "execute_result"
    }
   ],
   "source": [
    "mergesort(a)"
   ]
  },
  {
   "cell_type": "markdown",
   "metadata": {},
   "source": [
    "再重新拿助教的格式來弄"
   ]
  },
  {
   "cell_type": "code",
   "execution_count": 107,
   "metadata": {},
   "outputs": [],
   "source": [
    "class Solution(object):\n",
    "    def merge_sort(self,nums):\n",
    "        self.nums = nums\n",
    "        if len(nums) > 1:\n",
    "            mid = len(nums)//2          ##找到元素數量值的一半\n",
    "            left = nums[:mid]           ##把元素分成左邊和右邊，因為mergesort是分成一半，所以先找出mid很重要\n",
    "            right = nums[mid:]\n",
    "        \n",
    "            Solution().merge_sort(left)             ##重複呼交merge把left和right繼續分成兩個\n",
    "            Solution().merge_sort(right)\n",
    "        \n",
    "            i = 0\n",
    "            j = 0\n",
    "            k = 0\n",
    "            l = len(left)\n",
    "            r = len(right)\n",
    "\n",
    "            while i < l and j < r:       ##開始進行merge比較大小然後合併，假設left[i] == right[j]先把left[i]放進list裡面。\n",
    "                if left[i] < right[j]:   \n",
    "                    nums[k] = left[i]\n",
    "                    i += 1               ##i++,j++,k++是用來代表位置，因為放進一個元素，如果不++會造成元素的放進去的元素被下一個取代\n",
    "                elif left[i] > right[j]:\n",
    "                    nums[k] = right[j]\n",
    "                    j += 1\n",
    "                elif left[i] == right[j]:\n",
    "                    nums[k] = left[i]\n",
    "                    i += 1\n",
    "                k += 1\n",
    "            while i < l:                 ##把剩下還沒比較的元素放進list裡面，剩下來的不分不用去比較大小，因為是其中一邊沒了才會有剩下來\n",
    "                nums[k] = left[i]        ##的元素，直接放進list裡面，但還是要繼續k++\n",
    "                i += 1\n",
    "                k += 1\n",
    "            while j < r:\n",
    "                nums[k] = right[j]\n",
    "                j += 1\n",
    "                k += 1\n",
    "\n",
    "            return nums\n"
   ]
  },
  {
   "cell_type": "code",
   "execution_count": 108,
   "metadata": {},
   "outputs": [],
   "source": [
    "output = Solution().merge_sort([3,2,-4,6,4,2,19])"
   ]
  },
  {
   "cell_type": "code",
   "execution_count": 109,
   "metadata": {},
   "outputs": [
    {
     "data": {
      "text/plain": [
       "[-4, 2, 2, 3, 4, 6, 19]"
      ]
     },
     "execution_count": 109,
     "metadata": {},
     "output_type": "execute_result"
    }
   ],
   "source": [
    "output"
   ]
  },
  {
   "cell_type": "markdown",
   "metadata": {},
   "source": [
    "流程圖"
   ]
  },
  {
   "cell_type": "code",
   "execution_count": 110,
   "metadata": {},
   "outputs": [
    {
     "data": {
      "text/html": [
       "<img src=\"https://github.com/MorrisLee000/Practice/blob/master/Week8/20191107_104253.jpg?raw=true\"/>"
      ],
      "text/plain": [
       "<IPython.core.display.Image object>"
      ]
     },
     "execution_count": 110,
     "metadata": {},
     "output_type": "execute_result"
    }
   ],
   "source": [
    "from IPython.display import Image\n",
    "from IPython.core.display import HTML\n",
    "Image(url= \"https://github.com/MorrisLee000/Practice/blob/master/Week8/20191107_104253.jpg?raw=true\")"
   ]
  }
 ],
 "metadata": {
  "kernelspec": {
   "display_name": "Python 3",
   "language": "python",
   "name": "python3"
  },
  "language_info": {
   "codemirror_mode": {
    "name": "ipython",
    "version": 3
   },
   "file_extension": ".py",
   "mimetype": "text/x-python",
   "name": "python",
   "nbconvert_exporter": "python",
   "pygments_lexer": "ipython3",
   "version": "3.7.1"
  }
 },
 "nbformat": 4,
 "nbformat_minor": 2
}
