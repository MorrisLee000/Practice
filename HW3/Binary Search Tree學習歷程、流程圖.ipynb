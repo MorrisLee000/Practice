{
 "cells": [
  {
   "cell_type": "markdown",
   "metadata": {},
   "source": [
    "## Binary Search Tree"
   ]
  },
  {
   "cell_type": "markdown",
   "metadata": {},
   "source": [
    "需要作出四個function:新增、刪除、尋找、修改"
   ]
  },
  {
   "cell_type": "markdown",
   "metadata": {},
   "source": [
    "先做出TreeNode"
   ]
  },
  {
   "cell_type": "code",
   "execution_count": 5,
   "metadata": {
    "collapsed": true
   },
   "outputs": [],
   "source": [
    "class TreeNode(object):\n",
    "    def __init__(self, x):\n",
    "        self.val = x\n",
    "        self.right = None\n",
    "        self.left = None"
   ]
  },
  {
   "cell_type": "markdown",
   "metadata": {},
   "source": [
    "製作新增"
   ]
  },
  {
   "cell_type": "code",
   "execution_count": 6,
   "metadata": {
    "collapsed": true
   },
   "outputs": [],
   "source": [
    "class Solution(object):\n",
    "    def __init__(self):\n",
    "        self.root = root\n",
    "    ##新增\n",
    "    def insert(self, root, val):\n",
    "        if self.root == None:                    ##判斷self.root是否為None，如果是的話，self.root = TreeNode(val)\n",
    "            self.root = TreeNode(val)\n",
    "        else:\n",
    "            self._insert(val, self.root)\n",
    "    \n",
    "    def _insert(self, val, c_node):\n",
    "        if val <= c_node.val:                    ##判斷val的大小來決定要把它放到哪邊\n",
    "            if c_node.left == None:              ##判斷完val後，去看left和right是否有東西，如果沒有的話，val放到那個位置\n",
    "                c_node.left = TreeNode(val)\n",
    "            else:\n",
    "                self._insert(val, c_node.left)   ##如果left和right已經有東西了，就重複呼交function直到它放進去\n",
    "        elif val > c_node.val:\n",
    "            if c_node.right == None:\n",
    "                c_node.right = TreeNode(val)\n",
    "            else:\n",
    "                self._insert(val, c_node.right)"
   ]
  },
  {
   "cell_type": "markdown",
   "metadata": {},
   "source": [
    "製作尋找"
   ]
  },
  {
   "cell_type": "code",
   "execution_count": 7,
   "metadata": {
    "collapsed": true
   },
   "outputs": [],
   "source": [
    "class TreeNode(object):\n",
    "    def __init__(self, x):\n",
    "        self.val = x\n",
    "        self.left = None\n",
    "        self.right = None\n",
    "        self.parent = None\n",
    "class Solution(object):\n",
    "    def __init__(self):\n",
    "        self.root = root\n",
    "    ##新增\n",
    "    def insert(self, root, val):\n",
    "        if self.root == None:\n",
    "            self.root = TreeNode(val)\n",
    "        else:\n",
    "            self._insert(val, self.root)\n",
    "    \n",
    "    def _insert(self, val, c_node):\n",
    "        if val <= c_node.val:\n",
    "            if c_node.left == None:\n",
    "                c_node.left = TreeNode(val)\n",
    "            else:\n",
    "                self._insert(val, c_node.left)\n",
    "        elif val > c_node.val:\n",
    "            if c_node.right == None:\n",
    "                c_node.right = TreeNode(val)\n",
    "            else:\n",
    "                self._insert(val, c_node.right)\n",
    "    ##尋找\n",
    "    def search(self, root, target):\n",
    "        if self.root != None:                              ##判斷self.root是否有東西，如果有就進到_search的function\n",
    "            self._search(target, self.root)                ##如果沒有就回傳None\n",
    "        else:\n",
    "            return None\n",
    "            \n",
    "    def _search(self, target, c_node):\n",
    "        if target == c_node.val:                           ##假設target == c_node.val，回傳c_node\n",
    "            return c_node.val\n",
    "        elif target < c_node.val and c_node.left != None:  ##如果target != c_node.val，先比較大小，然後決定往左邊或\n",
    "            return self._search(target, c_node.left)       ##右邊繼續找下去，如果都沒有就回傳None\n",
    "        elif target > c_node.val and c_node.right != None:\n",
    "            return self._search(target, c_node.right)\n",
    "        else:\n",
    "            return None    "
   ]
  },
  {
   "cell_type": "markdown",
   "metadata": {},
   "source": [
    "製作刪除"
   ]
  },
  {
   "cell_type": "code",
   "execution_count": 8,
   "metadata": {
    "collapsed": true
   },
   "outputs": [],
   "source": [
    "class TreeNode(object):\n",
    "    def __init__(self, x):\n",
    "        self.val = x\n",
    "        self.left = None\n",
    "        self.right = None\n",
    "        self.parent = None\n",
    "class Solution(object):\n",
    "    def __init__(self):\n",
    "        self.root = root\n",
    "    ##新增\n",
    "    def insert(self, root, val):\n",
    "        if self.root == None:\n",
    "            self.root = TreeNode(val)\n",
    "        else:\n",
    "            self._insert(val, self.root)\n",
    "    \n",
    "    def _insert(self, val, c_node):\n",
    "        if val <= c_node.val:\n",
    "            if c_node.left == None:\n",
    "                c_node.left = TreeNode(val)\n",
    "            else:\n",
    "                self._insert(val, c_node.left)\n",
    "        elif val > c_node.val:\n",
    "            if c_node.right == None:\n",
    "                c_node.right = TreeNode(val)\n",
    "            else:\n",
    "                self._insert(val, c_node.right)\n",
    "    ##尋找\n",
    "    def search(self, root, target):\n",
    "        if self.root != None:                             \n",
    "            self._search(target, self.root)               \n",
    "        else:\n",
    "            return None\n",
    "            \n",
    "    def _search(self, target, c_node):\n",
    "        if target == c_node.val:                          \n",
    "            return c_node.val\n",
    "        elif target < c_node.val and c_node.left != None: \n",
    "            return self._search(target, c_node.left)      \n",
    "        elif target > c_node.val and c_node.right != None:\n",
    "            return self._search(target, c_node.right)\n",
    "        else:\n",
    "            return None\n",
    "    ##刪除\n",
    "    def delete(self, root, target):\n",
    "        return self._delete(self.search(target, self.root))\n",
    "    \n",
    "    def _delete(self, TreeNode):\n",
    "        return None"
   ]
  },
  {
   "cell_type": "markdown",
   "metadata": {},
   "source": [
    "製作修改"
   ]
  },
  {
   "cell_type": "code",
   "execution_count": 19,
   "metadata": {
    "collapsed": true
   },
   "outputs": [],
   "source": [
    "class TreeNode(object):\n",
    "    def __init__(self, x):\n",
    "        self.val = x\n",
    "        self.left = None\n",
    "        self.right = None\n",
    "        self.parent = None\n",
    "class Solution(object):\n",
    "    def __init__(self):\n",
    "        self.root = root\n",
    "    ##新增\n",
    "    def insert(self, root, val):\n",
    "        if self.root == None:                    ##判斷self.root是否為None，如果是的話，self.root = TreeNode(val)\n",
    "            self.root = TreeNode(val)\n",
    "        else:\n",
    "            self._insert(val, self.root)\n",
    "    \n",
    "    def _insert(self, val, c_node):\n",
    "        if val <= c_node.val:                    ##判斷val的大小來決定要把它放到哪邊\n",
    "            if c_node.left == None:              ##判斷完val後，去看left和right是否有東西，如果沒有的話，val放到那個位置\n",
    "                c_node.left = TreeNode(val)\n",
    "            else:\n",
    "                self._insert(val, c_node.left)   ##如果left和right已經有東西了，就重複呼交function直到它放進去\n",
    "        elif val > c_node.val:\n",
    "            if c_node.right == None:\n",
    "                c_node.right = TreeNode(val)\n",
    "            else:\n",
    "                self._insert(val, c_node.right)\n",
    "    ##尋找\n",
    "    def search(self, root, target):\n",
    "        if self.root != None:                              ##判斷self.root是否有東西，如果有就進到_search的function\n",
    "            self._search(target, self.root)                ##如果沒有就回傳None\n",
    "        else:\n",
    "            return None\n",
    "            \n",
    "    def _search(self, target, c_node):\n",
    "        if target == c_node.val:                           ##假設target == c_node.val，回傳c_node\n",
    "            return c_node.val\n",
    "        elif target < c_node.val and c_node.left != None:  ##如果target != c_node.val，先比較大小，然後決定往左邊或\n",
    "            return self._search(target, c_node.left)       ##右邊繼續找下去，如果都沒有就回傳None\n",
    "        elif target > c_node.val and c_node.right != None:\n",
    "            return self._search(target, c_node.right)\n",
    "        else:\n",
    "            return None    \n",
    "    ##刪除\n",
    "    def delete(self, root, target):\n",
    "        return None\n",
    "    ##修改\n",
    "    def modify(self, root, target, new_val):\n",
    "        return None"
   ]
  },
  {
   "cell_type": "markdown",
   "metadata": {},
   "source": [
    "這邊先給建立一個binary search tree"
   ]
  },
  {
   "cell_type": "code",
   "execution_count": 20,
   "metadata": {},
   "outputs": [
    {
     "name": "stdout",
     "output_type": "stream",
     "text": [
      "True\n",
      "True\n",
      "True\n",
      "True\n",
      "True\n",
      "True\n",
      "True\n",
      "True\n"
     ]
    }
   ],
   "source": [
    "root = TreeNode(5)\n",
    "Node1 = TreeNode(7)\n",
    "Node2 = TreeNode(6)\n",
    "Node3 = TreeNode(7)\n",
    "Node4 = TreeNode(4)\n",
    "Node5 = TreeNode(1)\n",
    "Node6 = TreeNode(2)\n",
    "Node7 = TreeNode(9)\n",
    "root.right = Node1\n",
    "root.left = Node4\n",
    "Node1.left = Node2\n",
    "Node1.right = Node7\n",
    "Node4.left = Node5\n",
    "Node2.right = Node3\n",
    "Node5.right = Node6\n",
    "print(root.val == 5)\n",
    "print(root.right.val == 7)\n",
    "print(root.left.val == 4)\n",
    "print(root.right.right.val == 9)\n",
    "print(root.right.left.val == 6)\n",
    "print(root.right.left.right.val == 7)\n",
    "print(root.left.left.val == 1)\n",
    "print(root.left.left.right.val == 2)"
   ]
  },
  {
   "cell_type": "code",
   "execution_count": 14,
   "metadata": {
    "collapsed": true
   },
   "outputs": [],
   "source": [
    "root1 = root\n",
    "root2 = root\n",
    "root3 = root\n",
    "root4 = root"
   ]
  },
  {
   "cell_type": "code",
   "execution_count": 21,
   "metadata": {},
   "outputs": [
    {
     "name": "stdout",
     "output_type": "stream",
     "text": [
      "None\n",
      "False\n"
     ]
    }
   ],
   "source": [
    "print(Solution().insert(root1, 3))\n",
    "print(Solution().insert(root1, 3) == root.left.left.right.right)"
   ]
  },
  {
   "cell_type": "code",
   "execution_count": 22,
   "metadata": {},
   "outputs": [
    {
     "name": "stdout",
     "output_type": "stream",
     "text": [
      "None\n",
      "None\n"
     ]
    }
   ],
   "source": [
    "print(Solution().search(root2, 4))\n",
    "print(Solution().search(root2, 0))"
   ]
  },
  {
   "cell_type": "code",
   "execution_count": 23,
   "metadata": {},
   "outputs": [
    {
     "name": "stdout",
     "output_type": "stream",
     "text": [
      "None\n"
     ]
    }
   ],
   "source": [
    "print(Solution().delete(root3, 4))"
   ]
  },
  {
   "cell_type": "code",
   "execution_count": 24,
   "metadata": {},
   "outputs": [
    {
     "name": "stdout",
     "output_type": "stream",
     "text": [
      "None\n"
     ]
    }
   ],
   "source": [
    "print(Solution().modify(root4, 1, 0))"
   ]
  },
  {
   "cell_type": "markdown",
   "metadata": {},
   "source": [
    "流程圖"
   ]
  },
  {
   "cell_type": "code",
   "execution_count": 9,
   "metadata": {},
   "outputs": [
    {
     "data": {
      "text/html": [
       "<img src=\"https://github.com/MorrisLee000/Practice/blob/master/Week9/20191122_180541.jpg?raw=true\"/>"
      ],
      "text/plain": [
       "<IPython.core.display.Image object>"
      ]
     },
     "execution_count": 9,
     "metadata": {},
     "output_type": "execute_result"
    }
   ],
   "source": [
    "from IPython.display import Image\n",
    "from IPython.core.display import HTML\n",
    "Image(url= \"https://github.com/MorrisLee000/Practice/blob/master/Week9/20191122_180541.jpg?raw=true\")"
   ]
  },
  {
   "cell_type": "code",
   "execution_count": 10,
   "metadata": {},
   "outputs": [
    {
     "data": {
      "text/html": [
       "<img src=\"https://github.com/MorrisLee000/Practice/blob/master/Week9/20191122_180545.jpg?raw=true\"/>"
      ],
      "text/plain": [
       "<IPython.core.display.Image object>"
      ]
     },
     "execution_count": 10,
     "metadata": {},
     "output_type": "execute_result"
    }
   ],
   "source": [
    "from IPython.display import Image\n",
    "from IPython.core.display import HTML\n",
    "Image(url= \"https://github.com/MorrisLee000/Practice/blob/master/Week9/20191122_180545.jpg?raw=true\")"
   ]
  },
  {
   "cell_type": "markdown",
   "metadata": {},
   "source": [
    "流程圖的部分內容有誤 10應該改成5"
   ]
  },
  {
   "cell_type": "markdown",
   "metadata": {},
   "source": [
    "### 參考網址1 https://www.youtube.com/watch?v=f5dU3xoE6ms\n",
    "### 參考網址2 https://www.youtube.com/watch?v=Zaf8EOVa72I\n",
    "### 參考網址3 https://github.com/bfaure/Python3_Data_Structures/blob/master/Binary_Search_Tree/main.py"
   ]
  }
 ],
 "metadata": {
  "kernelspec": {
   "display_name": "Python 3",
   "language": "python",
   "name": "python3"
  },
  "language_info": {
   "codemirror_mode": {
    "name": "ipython",
    "version": 3
   },
   "file_extension": ".py",
   "mimetype": "text/x-python",
   "name": "python",
   "nbconvert_exporter": "python",
   "pygments_lexer": "ipython3",
   "version": "3.6.2"
  }
 },
 "nbformat": 4,
 "nbformat_minor": 2
}
