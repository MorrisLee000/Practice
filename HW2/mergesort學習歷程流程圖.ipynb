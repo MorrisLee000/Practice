{
 "cells": [
  {
   "cell_type": "markdown",
   "metadata": {},
   "source": [
    "Merge_Sort"
   ]
  },
  {
   "cell_type": "markdown",
   "metadata": {},
   "source": [
    "先列出想法\n",
    "先把list給分成切成不斷分成2部分，等到全部都分成1個元素的時候再比較再進行merge合併"
   ]
  },
  {
   "cell_type": "code",
   "execution_count": 21,
   "metadata": {},
   "outputs": [],
   "source": [
    "def mergesort(list):\n",
    "    if len(list) > 1:\n",
    "        mid = list[len(list)//2]  ##找到最中間的點\n",
    "        left = list[:mid]   ##分成兩個list  left是左邊的那一半  right是右邊的那一半\n",
    "        right = list[mid:]\n",
    "        \n",
    "        mergesort(left)   ##重複呼叫直到把left和right都變成剩下一個\n",
    "        mergesort(right)\n",
    "        \n",
    "        i = 0\n",
    "        j = 0\n",
    "        k = 0\n",
    "        l = len(left)\n",
    "        r = len(right)\n",
    "        \n",
    "        while i < l and j < r:            ##開始進行merge，如果 i < l , j < r 就會進入if函數\n",
    "            if left[i] < right[j]:        ##假設left[i] < right[j] 那麼 left[i]就會被放進list裡面\n",
    "                list.append = left[i]\n",
    "                i += 1                    ##進行left[i+1]去比較\n",
    "            elif left[i] > right[j]:      ##假設left[i] < right[j] 那麼 left[i]就會被放進list裡面\n",
    "                list.append = right[j]\n",
    "                j += 1                    ##進行left[i+1]去比較\n",
    "            k += 1                        ##每進行一次比較就要把list[k]往後移\n",
    "        while i < l:                      ##當都比完後把剩下沒比較的left[i]或right[j]，直接加到list裡面\n",
    "            list.append = left[i]\n",
    "            i += 1\n",
    "            k += 1\n",
    "        while j < r:\n",
    "            list.append = right[j]\n",
    "            j += 1\n",
    "            k += 1\n",
    "        \n",
    "        return list"
   ]
  },
  {
   "cell_type": "code",
   "execution_count": 22,
   "metadata": {},
   "outputs": [],
   "source": [
    "a = [-1,6,0,-14,3,7,15]"
   ]
  },
  {
   "cell_type": "code",
   "execution_count": 23,
   "metadata": {},
   "outputs": [
    {
     "ename": "RecursionError",
     "evalue": "maximum recursion depth exceeded while calling a Python object",
     "output_type": "error",
     "traceback": [
      "\u001b[1;31m---------------------------------------------------------------------------\u001b[0m",
      "\u001b[1;31mRecursionError\u001b[0m                            Traceback (most recent call last)",
      "\u001b[1;32m<ipython-input-23-b70b8569759a>\u001b[0m in \u001b[0;36m<module>\u001b[1;34m\u001b[0m\n\u001b[1;32m----> 1\u001b[1;33m \u001b[0mmergesort\u001b[0m\u001b[1;33m(\u001b[0m\u001b[0ma\u001b[0m\u001b[1;33m)\u001b[0m\u001b[1;33m\u001b[0m\u001b[1;33m\u001b[0m\u001b[0m\n\u001b[0m",
      "\u001b[1;32m<ipython-input-21-ec6525a76483>\u001b[0m in \u001b[0;36mmergesort\u001b[1;34m(list)\u001b[0m\n\u001b[0;32m      6\u001b[0m \u001b[1;33m\u001b[0m\u001b[0m\n\u001b[0;32m      7\u001b[0m         \u001b[0mmergesort\u001b[0m\u001b[1;33m(\u001b[0m\u001b[0mleft\u001b[0m\u001b[1;33m)\u001b[0m   \u001b[1;31m##重複呼叫直到把left和right都變成剩下一個\u001b[0m\u001b[1;33m\u001b[0m\u001b[1;33m\u001b[0m\u001b[0m\n\u001b[1;32m----> 8\u001b[1;33m         \u001b[0mmergesort\u001b[0m\u001b[1;33m(\u001b[0m\u001b[0mright\u001b[0m\u001b[1;33m)\u001b[0m\u001b[1;33m\u001b[0m\u001b[1;33m\u001b[0m\u001b[0m\n\u001b[0m\u001b[0;32m      9\u001b[0m \u001b[1;33m\u001b[0m\u001b[0m\n\u001b[0;32m     10\u001b[0m         \u001b[0mi\u001b[0m \u001b[1;33m=\u001b[0m \u001b[1;36m0\u001b[0m\u001b[1;33m\u001b[0m\u001b[1;33m\u001b[0m\u001b[0m\n",
      "... last 1 frames repeated, from the frame below ...\n",
      "\u001b[1;32m<ipython-input-21-ec6525a76483>\u001b[0m in \u001b[0;36mmergesort\u001b[1;34m(list)\u001b[0m\n\u001b[0;32m      6\u001b[0m \u001b[1;33m\u001b[0m\u001b[0m\n\u001b[0;32m      7\u001b[0m         \u001b[0mmergesort\u001b[0m\u001b[1;33m(\u001b[0m\u001b[0mleft\u001b[0m\u001b[1;33m)\u001b[0m   \u001b[1;31m##重複呼叫直到把left和right都變成剩下一個\u001b[0m\u001b[1;33m\u001b[0m\u001b[1;33m\u001b[0m\u001b[0m\n\u001b[1;32m----> 8\u001b[1;33m         \u001b[0mmergesort\u001b[0m\u001b[1;33m(\u001b[0m\u001b[0mright\u001b[0m\u001b[1;33m)\u001b[0m\u001b[1;33m\u001b[0m\u001b[1;33m\u001b[0m\u001b[0m\n\u001b[0m\u001b[0;32m      9\u001b[0m \u001b[1;33m\u001b[0m\u001b[0m\n\u001b[0;32m     10\u001b[0m         \u001b[0mi\u001b[0m \u001b[1;33m=\u001b[0m \u001b[1;36m0\u001b[0m\u001b[1;33m\u001b[0m\u001b[1;33m\u001b[0m\u001b[0m\n",
      "\u001b[1;31mRecursionError\u001b[0m: maximum recursion depth exceeded while calling a Python object"
     ]
    }
   ],
   "source": [
    "mergesort(a)"
   ]
  },
  {
   "cell_type": "markdown",
   "metadata": {},
   "source": [
    "這邊錯誤顯示我在重複呼叫mergesort時超出了最大值，檢查後發現問題在mid，list[len(list)//2] = -14，改成len(list)//2 = 3就可以。"
   ]
  },
  {
   "cell_type": "code",
   "execution_count": null,
   "metadata": {},
   "outputs": [],
   "source": [
    "def mergesort(list):\n",
    "    if len(list) > 1:\n",
    "        mid = len(list)//2  ##len(list)//2 = 3 , list[len(list)//2] = -14\n",
    "        left = list[:mid]   \n",
    "        right = list[mid:]\n",
    "        \n",
    "        mergesort(left)   \n",
    "        mergesort(right)\n",
    "        \n",
    "        i = 0\n",
    "        j = 0\n",
    "        k = 0\n",
    "        l = len(left)\n",
    "        r = len(right)\n",
    "        \n",
    "        while i < l and j < r:            \n",
    "            if left[i] < right[j]:       \n",
    "                list.append = left[i]\n",
    "                i += 1\n",
    "            elif left[i] > right[j]:\n",
    "                list.append = right[j]\n",
    "                j += 1\n",
    "            k += 1\n",
    "        while i < l:\n",
    "            list.append = left[i]\n",
    "            i += 1\n",
    "            k += 1\n",
    "        while j < r:\n",
    "            list.append = right[j]\n",
    "            j += 1\n",
    "            k += 1\n",
    "        \n",
    "        return list"
   ]
  },
  {
   "cell_type": "code",
   "execution_count": null,
   "metadata": {},
   "outputs": [],
   "source": [
    "a = [-1,6,0,-14,3,7,15]"
   ]
  },
  {
   "cell_type": "code",
   "execution_count": null,
   "metadata": {},
   "outputs": [],
   "source": [
    "mergesort(a)"
   ]
  },
  {
   "cell_type": "markdown",
   "metadata": {},
   "source": [
    "這邊說list.append有問題，後來我去檢查時發現應該要改成list[k]不然會有問題，因為上課時i++ k++ 所以應該把它對應到k。"
   ]
  },
  {
   "cell_type": "code",
   "execution_count": 13,
   "metadata": {},
   "outputs": [],
   "source": [
    "def mergesort(list):\n",
    "    if len(list) > 1:\n",
    "        mid = len(list)//2  \n",
    "        left = list[:mid]   \n",
    "        right = list[mid:]\n",
    "        \n",
    "        mergesort(left)   \n",
    "        mergesort(right)\n",
    "        \n",
    "        i = 0\n",
    "        j = 0\n",
    "        k = 0\n",
    "        l = len(left)\n",
    "        r = len(right)\n",
    "        \n",
    "        while i < l and j < r:            \n",
    "            if left[i] < right[j]:\n",
    "                list[k] = left[i]   ##\n",
    "                i += 1\n",
    "            elif left[i] > right[j]:\n",
    "                list[k] = right[j]\n",
    "                j += 1\n",
    "            k += 1\n",
    "        while i < l:\n",
    "            list[k] = left[i]  \n",
    "            i += 1\n",
    "            k += 1\n",
    "        while j < r:\n",
    "            list[k] = right[j]\n",
    "            j += 1\n",
    "            k += 1\n",
    "        \n",
    "        return list"
   ]
  },
  {
   "cell_type": "code",
   "execution_count": 14,
   "metadata": {},
   "outputs": [],
   "source": [
    "a = [-1,6,0,-14,3,7,15]"
   ]
  },
  {
   "cell_type": "code",
   "execution_count": 15,
   "metadata": {},
   "outputs": [
    {
     "data": {
      "text/plain": [
       "[-14, -1, 0, 3, 6, 7, 15]"
      ]
     },
     "execution_count": 15,
     "metadata": {},
     "output_type": "execute_result"
    }
   ],
   "source": [
    "mergesort(a)"
   ]
  },
  {
   "cell_type": "markdown",
   "metadata": {},
   "source": [
    "接下來按照助教的格式去改。"
   ]
  },
  {
   "cell_type": "code",
   "execution_count": 16,
   "metadata": {},
   "outputs": [],
   "source": [
    "class Solution:\n",
    "    def merge_sort(self,nums):\n",
    "        self.nums = nums\n",
    "        if len(nums) > 1:\n",
    "            mid = len(nums)//2  \n",
    "            left = nums[:mid]   \n",
    "            right = nums[mid:]\n",
    "        \n",
    "            mergesort(left)   \n",
    "            mergesort(right)\n",
    "        \n",
    "            i = 0\n",
    "            j = 0\n",
    "            k = 0\n",
    "            l = len(left)\n",
    "            r = len(right)\n",
    "\n",
    "            while i < l and j < r:            \n",
    "                if left[i] < right[j]:\n",
    "                    nums[k] = left[i]\n",
    "                    i += 1\n",
    "                elif left[i] > right[j]:\n",
    "                    nums[k] = right[j]\n",
    "                    j += 1\n",
    "                k += 1\n",
    "            while i < l:\n",
    "                nums[k] = left[i]\n",
    "                i += 1\n",
    "                k += 1\n",
    "            while j < r:\n",
    "                nums[k] = right[j]\n",
    "                j += 1\n",
    "                k += 1\n",
    "\n",
    "            return nums"
   ]
  },
  {
   "cell_type": "markdown",
   "metadata": {},
   "source": [
    "參考網址 https://runestone.academy/runestone/books/published/pythonds/SortSearch/TheMergeSort.html"
   ]
  },
  {
   "cell_type": "code",
   "execution_count": null,
   "metadata": {},
   "outputs": [],
   "source": []
  }
 ],
 "metadata": {
  "kernelspec": {
   "display_name": "Python 3",
   "language": "python",
   "name": "python3"
  },
  "language_info": {
   "codemirror_mode": {
    "name": "ipython",
    "version": 3
   },
   "file_extension": ".py",
   "mimetype": "text/x-python",
   "name": "python",
   "nbconvert_exporter": "python",
   "pygments_lexer": "ipython3",
   "version": "3.7.1"
  }
 },
 "nbformat": 4,
 "nbformat_minor": 2
}
