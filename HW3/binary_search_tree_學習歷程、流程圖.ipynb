{
 "cells": [
  {
   "cell_type": "markdown",
   "metadata": {},
   "source": [
    "Binary Search Tree"
   ]
  },
  {
   "cell_type": "markdown",
   "metadata": {},
   "source": [
    "需要做出四個東西，插入、尋找、刪除、修改"
   ]
  },
  {
   "cell_type": "markdown",
   "metadata": {},
   "source": [
    "先做出treenode"
   ]
  },
  {
   "cell_type": "code",
   "execution_count": 3,
   "metadata": {},
   "outputs": [],
   "source": [
    "class TreeNode(object):\n",
    "    def __init__(self, x):\n",
    "        self.val = x\n",
    "        self.left = None\n",
    "        self.right = None\n",
    "        self.parent = None"
   ]
  },
  {
   "cell_type": "markdown",
   "metadata": {},
   "source": [
    "開始做function，先做insert"
   ]
  },
  {
   "cell_type": "code",
   "execution_count": 4,
   "metadata": {},
   "outputs": [],
   "source": [
    "class Solution(object):\n",
    "    def __init__(self):\n",
    "        self.root = root\n",
    "    ##新增\n",
    "    def insert(self, root, val):\n",
    "        if self.root == None:                    ##判斷self.root是否為None，如果是的話，self.root = TreeNode(val)\n",
    "            self.root = TreeNode(val)\n",
    "        else:\n",
    "            self._insert(val, self.root)\n",
    "    \n",
    "    def _insert(self, val, c_node):\n",
    "        if val <= c_node.val:                    ##判斷val的大小來決定要把它放到哪邊\n",
    "            if c_node.left == None:              ##判斷完val後，去看left和right是否有東西，如果沒有的話，val放到那個位置\n",
    "                c_node.left = TreeNode(val)\n",
    "            else:\n",
    "                self._insert(val, c_node.left)   ##如果left和right已經有東西了，就重複呼交function直到它放進去\n",
    "        elif val > c_node.val:\n",
    "            if c_node.right == None:\n",
    "                c_node.right = TreeNode(val)\n",
    "            else:\n",
    "                self._insert(val, c_node.right)"
   ]
  },
  {
   "cell_type": "markdown",
   "metadata": {},
   "source": [
    "insert做完後，做search"
   ]
  },
  {
   "cell_type": "code",
   "execution_count": 5,
   "metadata": {},
   "outputs": [],
   "source": [
    "class Solution(object):\n",
    "    ##新增\n",
    "    def insert(self, root, val):\n",
    "        if self.root == None:\n",
    "            self.root = TreeNode(val)\n",
    "        else:\n",
    "            self._insert(val, self.root)\n",
    "    \n",
    "    def _insert(self, val, c_node):\n",
    "        if val <= c_node.val:\n",
    "            if c_node.left == None:\n",
    "                c_node.left = TreeNode(val)\n",
    "            else:\n",
    "                self._insert(val, c_node.left)\n",
    "        elif val > c_node.val:\n",
    "            if c_node.right == None:\n",
    "                c_node.right = TreeNode(val)\n",
    "            else:\n",
    "                self._insert(val, c_node.right)\n",
    "    ##尋找\n",
    "    def search(self, root, target):\n",
    "        if self.root != None:                              ##判斷self.root是否有東西，如果有就進到_search的function\n",
    "            self._search(target, self.root)                ##如果沒有就回傳None\n",
    "        else:\n",
    "            return None\n",
    "            \n",
    "    def _search(self, target, c_node):\n",
    "        if target == c_node.val:                           ##假設target == c_node.val，回傳c_node\n",
    "            return c_node\n",
    "        elif target < c_node.val and c_node.left != None:  ##如果target != c_node.val，先比較大小，然後決定往左邊或\n",
    "            return self._search(target, c_node.left)       ##右邊繼續找下去，如果都沒有就回傳None\n",
    "        elif target > c_node.val and c_node.right != None:\n",
    "            return self._search(target, c_node.right)\n",
    "        else:\n",
    "            return None"
   ]
  },
  {
   "cell_type": "markdown",
   "metadata": {},
   "source": [
    "search做完後，做delete"
   ]
  },
  {
   "cell_type": "code",
   "execution_count": 6,
   "metadata": {},
   "outputs": [],
   "source": [
    "class Solution(object):\n",
    "    ##新增\n",
    "    def insert(self, root, val):\n",
    "        if self.root == None:\n",
    "            self.root = TreeNode(val)\n",
    "        else:\n",
    "            self._insert(val, self.root)\n",
    "    \n",
    "    def _insert(self, val, c_node):\n",
    "        if val <= c_node.val:\n",
    "            if c_node.left == None:\n",
    "                c_node.left = TreeNode(val)\n",
    "            else:\n",
    "                self._insert(val, c_node.left)\n",
    "        elif val > c_node.val:\n",
    "            if c_node.right == None:\n",
    "                c_node.right = TreeNode(val)\n",
    "            else:\n",
    "                self._insert(val, c_node.right)\n",
    "    ##尋找\n",
    "    def search(self, root, target):\n",
    "        if self.root != None:                             \n",
    "            self._search(target, self.root)               \n",
    "        else:\n",
    "            return None\n",
    "            \n",
    "    def _search(self, target, c_node):\n",
    "        if target == c_node.val:                          \n",
    "            return c_node\n",
    "        elif target < c_node.val and c_node.left != None: \n",
    "            return self._search(target, c_node.left)      \n",
    "        elif target > c_node.val and c_node.right != None:\n",
    "            return self._search(target, c_node.right)\n",
    "        else:\n",
    "            return None\n",
    "    ##刪除\n",
    "    def delete(self, root, target):\n",
    "        return self._delete(self.search(target))\n",
    "    \n",
    "    def _delete(self, TreeNode):\n",
    "        if TreeNode == None or self.search(TreeNode.val) == None:  ##如果刪除的目標沒再tree裡面就回傳None\n",
    "            return None\n",
    "        \n",
    "        def min_val_node(i):        ##回傳整棵樹的最小值\n",
    "            cur = i\n",
    "            while cur.left != None:\n",
    "                cur = cur.left\n",
    "                return cur\n",
    "        \n",
    "        def child_num(i):       ##回傳child的數量\n",
    "            child_num = 0\n",
    "            if i.left != None:\n",
    "                child_num += 1\n",
    "            if i.right != None:\n",
    "                child_num += 1\n",
    "            return child_num\n",
    "        \n",
    "        node_parent = TreeNode.parent    ##找到欲刪除節點的parent\n",
    "        \n",
    "        node_child = child_num(TreeNode) ##找到欲刪除節點的child數量\n",
    "        ##假設沒有child\n",
    "        if node_child == 0:\n",
    "            if node_parent != None:      ##移除欲刪除的目標節點\n",
    "                node_parent.left = None\n",
    "            else:\n",
    "                node_parent.right = None\n",
    "        else:\n",
    "            self.root = None\n",
    "        ##假設有一個child\n",
    "        if node_child == 1:\n",
    "            if TreeNode.left != None:   ##判斷child的位置，因為只有一個child，所以只要判斷在哪邊\n",
    "                child = TreeNode.left\n",
    "            else:\n",
    "                child = TreeNode.right\n",
    "            \n",
    "            if node_parent != None:     ##用child來取代刪除的節點\n",
    "                if node_parent.left == TreeNode:\n",
    "                    node_parent.left = child\n",
    "                else:\n",
    "                    node_parent.right = child\n",
    "            else:\n",
    "                self.root = child\n",
    "            child.parent = node_parent\n",
    "        ##假設有兩個child\n",
    "        if node_child == 2:\n",
    "            cho = min_val_node(TreeNode.right)\n",
    "            TreeNode.val = cho.val             ##使用較小的節點來代替刪除的節點\n",
    "            self._delete(cho)\n",
    "        return self.delete(root, target)       ##因為要刪除所有相同的數值，因此要重新呼delete"
   ]
  },
  {
   "cell_type": "markdown",
   "metadata": {},
   "source": [
    "最後做修改"
   ]
  },
  {
   "cell_type": "code",
   "execution_count": 7,
   "metadata": {},
   "outputs": [],
   "source": [
    "class Solution(object):\n",
    "    ##新增\n",
    "    def insert(self, root, val):\n",
    "        if self.root == None:\n",
    "            self.root = TreeNode(val)\n",
    "        else:\n",
    "            self._insert(val, self.root)\n",
    "    \n",
    "    def _insert(self, val, c_node):\n",
    "        if val <= c_node.val:\n",
    "            if c_node.left == None:\n",
    "                c_node.left = TreeNode(val)\n",
    "            else:\n",
    "                self._insert(val, c_node.left)\n",
    "        elif val > c_node.val:\n",
    "            if c_node.right == None:\n",
    "                c_node.right = TreeNode(val)\n",
    "            else:\n",
    "                self._insert(val, c_node.right)\n",
    "    ##尋找\n",
    "    def search(self, root, target):\n",
    "        if self.root != None:                             \n",
    "            self._search(target, self.root)               \n",
    "        else:\n",
    "            return None\n",
    "            \n",
    "    def _search(self, target, c_node):\n",
    "        if target == c_node.val:                          \n",
    "            return c_node\n",
    "        elif target < c_node.val and c_node.left != None: \n",
    "            return self._search(target, c_node.left)      \n",
    "        elif target > c_node.val and c_node.right != None:\n",
    "            return self._search(target, c_node.right)\n",
    "        else:\n",
    "            return None\n",
    "    ##刪除\n",
    "    def delete(self, root, target):\n",
    "        return self._delete(self.search(target))\n",
    "    \n",
    "    def _delete(self, TreeNode):\n",
    "        if TreeNode == None or self.search(TreeNode.val) == None:\n",
    "            return None\n",
    "        \n",
    "        def min_val_node(i):\n",
    "            cur = i\n",
    "            while cur.left != None:\n",
    "                cur = cur.left\n",
    "                return cur\n",
    "        \n",
    "        def child_num(i):\n",
    "            child_num = 0\n",
    "            if i.left != None:\n",
    "                child_num += 1\n",
    "            if i.right != None:\n",
    "                child_num += 1\n",
    "            return child_num\n",
    "        \n",
    "        node_parent = TreeNode.parent\n",
    "        \n",
    "        node_child = child_num(TreeNode)\n",
    "        ##假設沒有child\n",
    "        if node_child == 0:\n",
    "            if node_parent != None:\n",
    "                node_parent.left = None\n",
    "            else:\n",
    "                node_parent.right = None\n",
    "        else:\n",
    "            self.root = None\n",
    "        ##假設有一個child\n",
    "        if node_child == 1:\n",
    "            if TreeNode.left != None:\n",
    "                child = TreeNode.left\n",
    "            else:\n",
    "                child = TreeNode.right\n",
    "            \n",
    "            if node_parent != None:\n",
    "                if node_parent.left == TreeNode:\n",
    "                    node_parent.left = child\n",
    "                else:\n",
    "                    node_parent.right = child\n",
    "            else:\n",
    "                self.root = child\n",
    "            child.parent = node_parent\n",
    "        ##假設有兩個child\n",
    "        if node_child == 2:\n",
    "            cho = min_val_node(TreeNode.right)\n",
    "            TreeNode.val = cho.val\n",
    "            self._delete(cho)\n",
    "        return self.delete(root, target)\n",
    "    ##修改\n",
    "    def modify(self, root, target, new_val):\n",
    "        return None"
   ]
  },
  {
   "cell_type": "markdown",
   "metadata": {},
   "source": [
    "流程圖"
   ]
  },
  {
   "cell_type": "code",
   "execution_count": 1,
   "metadata": {
    "scrolled": true
   },
   "outputs": [
    {
     "data": {
      "text/html": [
       "<img src=\"https://github.com/MorrisLee000/Practice/blob/master/Week9/20191122_001014.jpg?raw=true\"/>"
      ],
      "text/plain": [
       "<IPython.core.display.Image object>"
      ]
     },
     "execution_count": 1,
     "metadata": {},
     "output_type": "execute_result"
    }
   ],
   "source": [
    "from IPython.display import Image\n",
    "from IPython.core.display import HTML\n",
    "Image(url= \"https://github.com/MorrisLee000/Practice/blob/master/Week9/20191122_001014.jpg?raw=true\")"
   ]
  },
  {
   "cell_type": "code",
   "execution_count": 2,
   "metadata": {},
   "outputs": [
    {
     "data": {
      "text/html": [
       "<img src=\"https://github.com/MorrisLee000/Practice/blob/master/Week9/20191122_001021.jpg?raw=true\"/>"
      ],
      "text/plain": [
       "<IPython.core.display.Image object>"
      ]
     },
     "execution_count": 2,
     "metadata": {},
     "output_type": "execute_result"
    }
   ],
   "source": [
    "from IPython.display import Image\n",
    "from IPython.core.display import HTML\n",
    "Image(url= \"https://github.com/MorrisLee000/Practice/blob/master/Week9/20191122_001021.jpg?raw=true\")"
   ]
  },
  {
   "cell_type": "markdown",
   "metadata": {},
   "source": [
    "#### 參考網址1 https://www.youtube.com/watch?v=f5dU3xoE6ms\n",
    "#### 參考網址2 https://www.youtube.com/watch?v=Zaf8EOVa72I\n",
    "#### 參考網址3 https://github.com/bfaure/Python3_Data_Structures/blob/master/Binary_Search_Tree/main.py"
   ]
  }
 ],
 "metadata": {
  "kernelspec": {
   "display_name": "Python 3",
   "language": "python",
   "name": "python3"
  },
  "language_info": {
   "codemirror_mode": {
    "name": "ipython",
    "version": 3
   },
   "file_extension": ".py",
   "mimetype": "text/x-python",
   "name": "python",
   "nbconvert_exporter": "python",
   "pygments_lexer": "ipython3",
   "version": "3.7.1"
  }
 },
 "nbformat": 4,
 "nbformat_minor": 2
}
